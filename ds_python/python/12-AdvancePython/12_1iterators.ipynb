{
 "cells": [
  {
   "cell_type": "code",
   "execution_count": null,
   "id": "8cd20121",
   "metadata": {},
   "outputs": [],
   "source": [
    "# Create a custom iterator class named `Countdown` that takes a number and counts down to zero. \n",
    "# Implement the `__iter__` and `__next__` methods. Test the iterator by using it in a for loop.\n",
    "\n",
    "class Countdown:\n",
    "    def __init__(self,number):\n",
    "        self.number=number\n",
    "    def __iter__(self):\n",
    "        return self\n",
    "    def next(self):\n",
    "        if self.number<=0:\n",
    "            raise StopIteration\n",
    "        else:\n",
    "            self.number-=1\n",
    "            return self.number\n",
    "\n",
    "\n",
    "p=Countdown(3)"
   ]
  },
  {
   "cell_type": "code",
   "execution_count": null,
   "id": "76724d4e",
   "metadata": {},
   "outputs": [
    {
     "ename": "TypeError",
     "evalue": "iter() returned non-iterator of type 'Countdown'",
     "output_type": "error",
     "traceback": [
      "\u001b[31m---------------------------------------------------------------------------\u001b[39m",
      "\u001b[31mTypeError\u001b[39m                                 Traceback (most recent call last)",
      "\u001b[36mCell\u001b[39m\u001b[36m \u001b[39m\u001b[32mIn[28]\u001b[39m\u001b[32m, line 1\u001b[39m\n\u001b[32m----> \u001b[39m\u001b[32m1\u001b[39m \u001b[38;5;28;43;01mfor\u001b[39;49;00m\u001b[43m \u001b[49m\u001b[43mnumber\u001b[49m\u001b[43m \u001b[49m\u001b[38;5;129;43;01min\u001b[39;49;00m\u001b[43m \u001b[49m\u001b[43mCountdown\u001b[49m\u001b[43m(\u001b[49m\u001b[32;43m5\u001b[39;49m\u001b[43m)\u001b[49m\u001b[43m:\u001b[49m\n\u001b[32m      2\u001b[39m \u001b[43m    \u001b[49m\u001b[38;5;28;43mprint\u001b[39;49m\u001b[43m(\u001b[49m\u001b[43mnumber\u001b[49m\u001b[43m)\u001b[49m\n",
      "\u001b[31mTypeError\u001b[39m: iter() returned non-iterator of type 'Countdown'"
     ]
    }
   ],
   "source": [
    "p.next()"
   ]
  },
  {
   "cell_type": "code",
   "execution_count": 16,
   "id": "f4e7c571",
   "metadata": {},
   "outputs": [],
   "source": [
    "# Assignment 2: Custom Iterable Class\n",
    "\n",
    "# Create a class named `MyRange` that mimics the behavior of the built-in `range` function. \n",
    "# Implement the `__iter__` and `__next__` methods. Test the class by using it in a for loop.\n",
    "\n",
    "class MyRange:\n",
    "    def __init__(self,intial,end):\n",
    "        self.number=end\n",
    "        self.intial=intial\n",
    "    def __iter__(self):\n",
    "        return self\n",
    "    def __next__(self):\n",
    "        if(self.intial>=self.number):\n",
    "            raise StopIteration\n",
    "        else:\n",
    "            self.intial+=1\n",
    "            return self.intial\n",
    "\n",
    "\n"
   ]
  },
  {
   "cell_type": "code",
   "execution_count": 17,
   "id": "2a696d5f",
   "metadata": {},
   "outputs": [
    {
     "name": "stdout",
     "output_type": "stream",
     "text": [
      "4\n",
      "5\n",
      "6\n"
     ]
    }
   ],
   "source": [
    "for i in MyRange(3,6):\n",
    "    print(i)"
   ]
  }
 ],
 "metadata": {
  "kernelspec": {
   "display_name": "Python 3",
   "language": "python",
   "name": "python3"
  },
  "language_info": {
   "codemirror_mode": {
    "name": "ipython",
    "version": 3
   },
   "file_extension": ".py",
   "mimetype": "text/x-python",
   "name": "python",
   "nbconvert_exporter": "python",
   "pygments_lexer": "ipython3",
   "version": "3.12.0"
  }
 },
 "nbformat": 4,
 "nbformat_minor": 5
}
