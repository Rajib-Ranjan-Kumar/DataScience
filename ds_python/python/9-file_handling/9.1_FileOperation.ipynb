{
 "cells": [
  {
   "cell_type": "markdown",
   "id": "e61fbf8c",
   "metadata": {},
   "source": [
    "### File handling in Python\n",
    "File handling in Python allows you to read from and write to files on your system. Python provides built-in functions and methods to work with files easily."
   ]
  },
  {
   "cell_type": "markdown",
   "id": "e97b19e3",
   "metadata": {},
   "source": [
    "### File handling with open function\n"
   ]
  },
  {
   "cell_type": "code",
   "execution_count": 4,
   "id": "ab145e78",
   "metadata": {},
   "outputs": [
    {
     "name": "stdout",
     "output_type": "stream",
     "text": [
      "Hello rajib.\n",
      "How are you?\n"
     ]
    }
   ],
   "source": [
    "with open('Rajib.txt','r') as file:\n",
    "    \n",
    "    content=file.read()  ##for read function it already should be created otherwise its show error\n",
    "    print(content)"
   ]
  },
  {
   "cell_type": "code",
   "execution_count": 9,
   "id": "6eb20c7c",
   "metadata": {},
   "outputs": [
    {
     "name": "stdout",
     "output_type": "stream",
     "text": [
      "Hello rajib.\n",
      "How are you?\n",
      "<_io.TextIOWrapper name='Rajib.txt' mode='r' encoding='utf-8'>\n"
     ]
    }
   ],
   "source": [
    "# reading line by line content\n",
    "with open('Rajib.txt','r') as file:\n",
    "    for line in file:\n",
    "        print(line.strip())#strip function remove the newline character\n",
    "    print(file)\n"
   ]
  },
  {
   "cell_type": "code",
   "execution_count": 11,
   "id": "ca0f4318",
   "metadata": {},
   "outputs": [],
   "source": [
    "#writing a file as (overwritten)\n",
    "with open('Rajib.txt','w') as file:\n",
    "    file.write(\"writing overritten section \\n\")\n",
    "    file.write(\"It will remove all old content and write new content\")"
   ]
  },
  {
   "cell_type": "code",
   "execution_count": null,
   "id": "1550f0a5",
   "metadata": {},
   "outputs": [],
   "source": [
    "#writting a file as without overridding by appending \n",
    "with open('Rajib.txt','a') as file:\n",
    "    file.write(\"\\nThis is the apeand section not overwritten\")\n",
    "\n"
   ]
  },
  {
   "cell_type": "code",
   "execution_count": 13,
   "id": "47d6e31d",
   "metadata": {},
   "outputs": [],
   "source": [
    "#writing  a list of lines to file\n",
    "lines=['Rajib Ranjan study in KIIT.\\n','He is pursuing B.Tech degree right now.\\n','He will complete his degree in 2027\\n']\n",
    "with open('Rajib.txt','a') as file:\n",
    "    file.writelines(lines)\n"
   ]
  },
  {
   "cell_type": "code",
   "execution_count": 14,
   "id": "58f3cc1d",
   "metadata": {},
   "outputs": [],
   "source": [
    "#Binary files\n",
    "\n",
    "\n",
    "data = b'\\x00\\x01\\x02\\x03\\x04'\n",
    "with open('example.bin', 'wb') as file:\n",
    "    file.write(data)\n",
    "\n"
   ]
  },
  {
   "cell_type": "code",
   "execution_count": 15,
   "id": "f24c6970",
   "metadata": {},
   "outputs": [
    {
     "name": "stdout",
     "output_type": "stream",
     "text": [
      "b'\\x00\\x01\\x02\\x03\\x04'\n"
     ]
    }
   ],
   "source": [
    "#reading the binary files\n",
    "with open('example.bin','rb') as file:\n",
    "    content=file.read()\n",
    "    print(content)"
   ]
  },
  {
   "cell_type": "code",
   "execution_count": 16,
   "id": "ed38e335",
   "metadata": {},
   "outputs": [],
   "source": [
    "#reading from the source file and writting to the destination file\n",
    "\n",
    "with open('source.txt','r') as file:\n",
    "    content=file.read()\n",
    "with open('destination.txt','w') as file:\n",
    "    file.write(content)"
   ]
  },
  {
   "cell_type": "code",
   "execution_count": 24,
   "id": "927fc257",
   "metadata": {},
   "outputs": [
    {
     "name": "stdout",
     "output_type": "stream",
     "text": [
      "Lines: 5\n",
      "Words: 39\n",
      "Characters: 222\n"
     ]
    }
   ],
   "source": [
    "lines = 0\n",
    "words = 0\n",
    "characters = 0\n",
    "\n",
    "with open('Rajib.txt', 'r') as file:\n",
    "    for line in file:\n",
    "        line=line.strip('\\n')\n",
    "        lines += 1\n",
    "        words += len(line.split(\" \"))  \n",
    "        characters += len(line)     \n",
    "\n",
    "print(\"Lines:\", lines)\n",
    "print(\"Words:\", words)\n",
    "print(\"Characters:\", characters)\n"
   ]
  },
  {
   "cell_type": "code",
   "execution_count": null,
   "id": "85414300",
   "metadata": {},
   "outputs": [
    {
     "name": "stdout",
     "output_type": "stream",
     "text": [
      "\n"
     ]
    }
   ],
   "source": [
    "#writing and reading a file \n",
    "with open('Rajib.txt','w+') as file:\n",
    "    file.write(\"r\")\n",
    "    file.seek(0)\n",
    "    content=file.read()\n",
    "    print(content)"
   ]
  },
  {
   "cell_type": "code",
   "execution_count": null,
   "id": "2f9046f0",
   "metadata": {},
   "outputs": [],
   "source": []
  }
 ],
 "metadata": {
  "kernelspec": {
   "display_name": "Python 3",
   "language": "python",
   "name": "python3"
  },
  "language_info": {
   "codemirror_mode": {
    "name": "ipython",
    "version": 3
   },
   "file_extension": ".py",
   "mimetype": "text/x-python",
   "name": "python",
   "nbconvert_exporter": "python",
   "pygments_lexer": "ipython3",
   "version": "3.12.0"
  }
 },
 "nbformat": 4,
 "nbformat_minor": 5
}
