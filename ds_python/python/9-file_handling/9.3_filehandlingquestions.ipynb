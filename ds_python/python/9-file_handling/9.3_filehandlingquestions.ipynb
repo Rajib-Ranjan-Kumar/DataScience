{
 "cells": [
  {
   "cell_type": "markdown",
   "metadata": {},
   "source": [
    "# Module: File Handling Assignments\n",
    "## Lesson: File Handling and Operations\n",
    "\n",
    "\n",
    "\n",
    "\n",
    "\n",
    "\n",
    "\n",
    "\n",
    "\n",
    "### Assignment 8: Counting Lines, Words, and Characters\n",
    "\n",
    "Write a function that reads the contents of a file named `stats.txt` and returns the number of lines, words, and characters in the file.\n",
    "\n",
    "### Assignment 9: Merging Multiple Files\n",
    "\n",
    "Write a function that merges the contents of multiple files into a single file named `merged.txt`.\n",
    "\n",
    "### Assignment 10: Splitting a Large File\n",
    "\n",
    "Write a function that splits a large file named `large.txt` into smaller files of 100 lines each.\n",
    "\n",
    "### Assignment 11: Creating a Log File\n",
    "\n",
    "Write a function that creates a log file named `activity.log` and writes log messages with timestamps.\n",
    "\n",
    "### Assignment 12: Binary File Operations\n",
    "\n",
    "Write a function that reads a binary file named `image.bin` and writes its contents to another binary file named `copy_image.bin`.\n",
    "\n",
    "### Assignment 13: CSV File Operations\n",
    "\n",
    "Write a function that reads a CSV file named `data.csv` and prints its contents as a list of dictionaries.\n",
    "\n",
    "### Assignment 14: JSON File Operations\n",
    "\n",
    "Write a function that reads a JSON file named `data.json` and prints its contents as a Python dictionary.\n",
    "\n",
    "### Assignment 15: File Permission Handling\n",
    "\n",
    "Write a function that attempts to read a file named `protected.txt` and handles any permission errors gracefully by printing an error message."
   ]
  },
  {
   "cell_type": "code",
   "execution_count": 3,
   "metadata": {},
   "outputs": [
    {
     "name": "stdout",
     "output_type": "stream",
     "text": [
      "writing overritten section \n",
      "It will remove all old content and write new content\n",
      "This is the apeand section not overwrittenRajib Ranjan study in KIIT.\n",
      "He is pursuing B.Tech degree right now.\n",
      "He will complete his degree in 2027\n",
      "\n"
     ]
    }
   ],
   "source": [
    "### Assignment 1: Reading a File\n",
    "\n",
    "#Write a function that reads the contents of a file named `sample.txt` and prints each line.\n",
    "with open('Rajib.txt','r') as file:\n",
    "    content=file.read()\n",
    "    print(content)\n"
   ]
  },
  {
   "cell_type": "code",
   "execution_count": 4,
   "id": "8bc89186",
   "metadata": {},
   "outputs": [],
   "source": [
    "### Assignment 2: \n",
    "# Writing to a File\n",
    "\n",
    "#Write a function that writes a list of strings to a file named `output.txt`, with each \n",
    "# string on a new line.\n",
    "\n",
    "with open('Rajib.txt','w') as file:\n",
    "    file.write(\"re-writting the file\")\n"
   ]
  },
  {
   "cell_type": "code",
   "execution_count": 5,
   "id": "1ab19fa2",
   "metadata": {},
   "outputs": [],
   "source": [
    "### Assignment 3: \n",
    "# Copying a File\n",
    "# Write a function that copies the contents of a file named `source.txt` to a new file named\n",
    "#  `destination.txt`.\n",
    "\n",
    "with open('source.txt','r') as file:\n",
    "    content=file.read()\n",
    "with open('destination.txt','w') as file:\n",
    "    file.write(content)"
   ]
  },
  {
   "cell_type": "code",
   "execution_count": 6,
   "id": "ba9129e6",
   "metadata": {},
   "outputs": [],
   "source": [
    "### Assignment 4: Appending to a File\n",
    "\n",
    "#Write a function that appends a given string to the end of a file named `log.txt`.\n",
    "with open('Rajib.txt','a') as file:\n",
    "    file.write(\"laskdfjla;dsfjaff\")"
   ]
  },
  {
   "cell_type": "code",
   "execution_count": 21,
   "id": "6b3fc1c0",
   "metadata": {},
   "outputs": [],
   "source": [
    "\n",
    "### Assignment 6: Finding and Replacing Text\n",
    "\n",
    "#Write a function that finds and replaces all occurrences of a given word in a file named `data.txt` with another word.\n",
    "def finds(find,replace,files):\n",
    "    content=\"\"\n",
    "    with open (files,'r') as file:\n",
    "        content=file.read()\n",
    "        content=content.replace(find,replace)\n",
    "    with open(files,'w') as file:\n",
    "        file.write(content)\n",
    "\n",
    "finds('rajib','raj','Rajib.txt')\n",
    "        \n",
    "\n",
    "   \n",
    "    "
   ]
  },
  {
   "cell_type": "code",
   "execution_count": null,
   "id": "64b6bb9d",
   "metadata": {},
   "outputs": [],
   "source": [
    "### Assignment 7: Reading a File in Reverse\n",
    "\n",
    "##Write a function that reads the contents of a file named `reverse.txt` and prints each line in reverse order."
   ]
  }
 ],
 "metadata": {
  "kernelspec": {
   "display_name": "Python 3",
   "language": "python",
   "name": "python3"
  },
  "language_info": {
   "codemirror_mode": {
    "name": "ipython",
    "version": 3
   },
   "file_extension": ".py",
   "mimetype": "text/x-python",
   "name": "python",
   "nbconvert_exporter": "python",
   "pygments_lexer": "ipython3",
   "version": "3.12.0"
  }
 },
 "nbformat": 4,
 "nbformat_minor": 5
}
