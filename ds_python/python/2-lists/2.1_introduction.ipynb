{
 "cells": [
  {
   "cell_type": "markdown",
   "id": "61cdc033",
   "metadata": {},
   "source": [
    "## Introduction to lists\n",
    ">lists are ordered,mutable collections of items.\n",
    ">They can contain items of different data types"
   ]
  },
  {
   "cell_type": "code",
   "execution_count": null,
   "id": "ff691bb0",
   "metadata": {},
   "outputs": [
    {
     "name": "stdout",
     "output_type": "stream",
     "text": [
      "<class 'list'>\n"
     ]
    }
   ],
   "source": [
    "# List is created using square brackets\n",
    "# and can contain any data type, including other lists.\n",
    "\n",
    "list = []\n",
    "print(type(list))"
   ]
  },
  {
   "cell_type": "markdown",
   "id": "10138641",
   "metadata": {},
   "source": [
    "## List methods \n",
    "* list.sort() ;\n",
    "* list.append() add at the end of the list\n",
    "* list.reverse() reverse the list\n",
    "* list.insert(index,element) this will add element at index \n",
    "* list.pop(index) this will pop the index\n",
    "* len(list) length of the list\n",
    "* list.clear() clear all the list presents"
   ]
  },
  {
   "cell_type": "code",
   "execution_count": 19,
   "id": "3101f1df",
   "metadata": {},
   "outputs": [
    {
     "name": "stdout",
     "output_type": "stream",
     "text": [
      "1\n",
      "2\n"
     ]
    }
   ],
   "source": [
    "# Accessing elements in a list\n",
    "list = [1, 2, 3, 4, 5]\n",
    "\n",
    "print(list[0])  # Output: 1\n",
    "print(list[1])  # Output: 2"
   ]
  },
  {
   "cell_type": "code",
   "execution_count": 21,
   "id": "c9763902",
   "metadata": {},
   "outputs": [
    {
     "name": "stdout",
     "output_type": "stream",
     "text": [
      "[1, 2]\n",
      "[2, 3]\n",
      "[2, 3, 4, 5]\n",
      "[1, 2, 3]\n",
      "[3, 4]\n",
      "[1, 3, 5]\n",
      "[5, 4, 3, 2, 1]\n"
     ]
    }
   ],
   "source": [
    "\n",
    "%config Completer.use_jedi = False\n",
    "# List Slicing\n",
    "list = [1, 2, 3, 4, 5]\n",
    "print(list[0:2])  # Output: [1, 2]\n",
    "print(list[1:3])  # Output: [2, 3]\n",
    "print(list[1:])  # Output: [3, 4]   \n",
    "print(list[:3])  # Output: [1, 2, 3]\n",
    "print(list[-3:-1])  # Output: [3, 4]\n",
    "print(list[::2]) # 2 is the step, so it will take every second element\n",
    "print(list[::-1])  # Output: [5, 4, 3,"
   ]
  },
  {
   "cell_type": "code",
   "execution_count": 20,
   "id": "eb43b00a",
   "metadata": {},
   "outputs": [
    {
     "name": "stdout",
     "output_type": "stream",
     "text": [
      "['apple', 'banana', 'cherry', 'date', 'elderberry', 'fig', 'grape']\n",
      "['apple', 'banana', 'cherry', 'date', 'elderberry', 'fig', 'grape', 'kiwi']\n",
      "['kiwi', 'grape', 'fig', 'elderberry', 'date', 'cherry', 'banana', 'apple']\n",
      "['kiwi', 'grape', 'orange', 'fig', 'elderberry', 'date', 'cherry', 'banana', 'apple']\n",
      "Poped fruit: apple\n",
      "['kiwi', 'grape', 'orange', 'fig', 'elderberry', 'date', 'cherry', 'banana']\n"
     ]
    }
   ],
   "source": [
    "# List methods\n",
    "fruits = ['apple', 'banana', 'cherry', 'date', 'elderberry', 'fig', 'grape']\n",
    "fruits.sort()\n",
    "print(fruits)  # sorted list\n",
    "fruits.append('kiwi')  # add at the end of the list\n",
    "print(fruits)  # list after appending kiwi\n",
    "fruits.reverse()  # reverse the list\n",
    "print(fruits)  # reversed list\n",
    "fruits.insert(2,\"orange\")\n",
    "print(fruits)  # list after inserting orange at index 2\n",
    "poped_fruit = fruits.pop()\n",
    "print(f\"Poped fruit: {poped_fruit}\")  # pop the last element\n",
    "print(fruits)  # list after popping the last element\n"
   ]
  },
  {
   "cell_type": "code",
   "execution_count": 22,
   "id": "bc467f7a",
   "metadata": {},
   "outputs": [
    {
     "name": "stdout",
     "output_type": "stream",
     "text": [
      "kiwi\n",
      "grape\n",
      "orange\n",
      "fig\n",
      "elderberry\n",
      "date\n",
      "cherry\n",
      "banana\n"
     ]
    }
   ],
   "source": [
    "# Iteratoin over a list\n",
    "for fruit in fruits:\n",
    "    print(fruit)  # prints each fruit in the list"
   ]
  },
  {
   "cell_type": "code",
   "execution_count": 23,
   "id": "2fa7614e",
   "metadata": {},
   "outputs": [
    {
     "name": "stdout",
     "output_type": "stream",
     "text": [
      "Index: 0, Fruit: kiwi\n",
      "Index: 1, Fruit: grape\n",
      "Index: 2, Fruit: orange\n",
      "Index: 3, Fruit: fig\n",
      "Index: 4, Fruit: elderberry\n",
      "Index: 5, Fruit: date\n",
      "Index: 6, Fruit: cherry\n",
      "Index: 7, Fruit: banana\n"
     ]
    }
   ],
   "source": [
    "# iteation using index \n",
    "for index,fruit in enumerate(fruits):\n",
    "    print(f\"Index: {index}, Fruit: {fruit}\")  # prints index and fruit in the list"
   ]
  },
  {
   "cell_type": "code",
   "execution_count": 24,
   "id": "bab60953",
   "metadata": {},
   "outputs": [
    {
     "name": "stdout",
     "output_type": "stream",
     "text": [
      "[0, 1, 4, 9, 16, 25, 36, 49, 64, 81]\n"
     ]
    }
   ],
   "source": [
    "#  Basic  List comprehension\n",
    "square = [x**2 for x in range(10)]\n",
    "print(square)  # Output: [0, 1, 4, 9, 16, 25, 36, 49, 64, 81]\n"
   ]
  },
  {
   "cell_type": "code",
   "execution_count": null,
   "id": "feb685a2",
   "metadata": {},
   "outputs": [
    {
     "name": "stdout",
     "output_type": "stream",
     "text": [
      "[0, 4, 16, 36, 64]\n"
     ]
    }
   ],
   "source": [
    "# list comprehension with condition\n",
    "even_squate= [x**2 for x in range(10) if x%2==0]\n",
    "print(even_squate)  # Output: [0, 4, 16, 36, 64]"
   ]
  },
  {
   "cell_type": "code",
   "execution_count": 29,
   "id": "befb1d6d",
   "metadata": {},
   "outputs": [
    {
     "name": "stdout",
     "output_type": "stream",
     "text": [
      "[(1, 4), (1, 5), (1, 6), (2, 4), (2, 5), (2, 6), (3, 4), (3, 5), (3, 6)]\n"
     ]
    }
   ],
   "source": [
    "# nested list comprehension\n",
    "lst1=[1,2,3]\n",
    "list2=[4,5,6]\n",
    "pair =[(x,y) for x in lst1 for y in list2]\n",
    "print(pair)  # Output: [(1, 4), (1, 5), (1, 6), (2, 4), (2, 5), (2, 6), (3, 4), (3, 5), (3, 6)]"
   ]
  },
  {
   "cell_type": "code",
   "execution_count": null,
   "id": "bb72dc86",
   "metadata": {},
   "outputs": [
    {
     "name": "stdout",
     "output_type": "stream",
     "text": [
      "[5, 5, 6, 2, 7]\n"
     ]
    }
   ],
   "source": [
    "# list comprehension with function calls\n",
    "words = ['hello', 'world', 'python', 'is', 'awesome']\n",
    "lengths =[ len(word) for word in words]\n",
    "print(lengths)  # Output: [5, 5, 6, 2\n"
   ]
  }
 ],
 "metadata": {
  "kernelspec": {
   "display_name": "Python 3",
   "language": "python",
   "name": "python3"
  },
  "language_info": {
   "codemirror_mode": {
    "name": "ipython",
    "version": 3
   },
   "file_extension": ".py",
   "mimetype": "text/x-python",
   "name": "python",
   "nbconvert_exporter": "python",
   "pygments_lexer": "ipython3",
   "version": "3.12.0"
  }
 },
 "nbformat": 4,
 "nbformat_minor": 5
}
