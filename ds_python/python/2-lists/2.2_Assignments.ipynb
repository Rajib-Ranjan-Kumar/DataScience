{
 "cells": [
  {
   "cell_type": "code",
   "execution_count": 23,
   "id": "26fdafde",
   "metadata": {},
   "outputs": [
    {
     "name": "stdout",
     "output_type": "stream",
     "text": [
      "[1, 2, 3, 4, 5, 6, 7, 8, 9, 10, 11, 12, 13, 14, 15, 16, 17, 18, 19, 20]\n"
     ]
    }
   ],
   "source": [
    "# create a list and print 20 positive integers\n",
    "list = []\n",
    "for i in range(1,21):\n",
    "    list.append(i)\n",
    "print(list)\n",
    "\n",
    " "
   ]
  },
  {
   "cell_type": "code",
   "execution_count": 24,
   "id": "3a9de243",
   "metadata": {},
   "outputs": [
    {
     "name": "stdout",
     "output_type": "stream",
     "text": [
      "1\n",
      "11\n",
      "20\n"
     ]
    }
   ],
   "source": [
    "#print the first ,miidle and last element\n",
    "print(list[0])\n",
    "print(list[10])\n",
    "print(list[19])"
   ]
  },
  {
   "cell_type": "code",
   "execution_count": 25,
   "id": "dfb07116",
   "metadata": {},
   "outputs": [
    {
     "name": "stdout",
     "output_type": "stream",
     "text": [
      "[1, 2, 3, 4, 5, 6]\n",
      "[16, 17, 18, 19, 20]\n",
      "[6, 7, 8, 9, 10, 11, 12, 13, 14, 15]\n"
     ]
    }
   ],
   "source": [
    "print(list[:6])\n",
    "print(list[15:])\n",
    "print(list[5:15])"
   ]
  },
  {
   "cell_type": "code",
   "execution_count": 26,
   "id": "203cd9b6",
   "metadata": {},
   "outputs": [
    {
     "name": "stdout",
     "output_type": "stream",
     "text": [
      "[1, 4, 9, 16, 25, 36, 49, 64, 81, 100]\n"
     ]
    }
   ],
   "source": [
    "list = [x**2 for x in range(1,11)]\n",
    "print(list)"
   ]
  },
  {
   "cell_type": "code",
   "execution_count": 27,
   "id": "fe605555",
   "metadata": {},
   "outputs": [
    {
     "name": "stdout",
     "output_type": "stream",
     "text": [
      "[4, 16, 36, 64, 100]\n"
     ]
    }
   ],
   "source": [
    "newList = [x for x in list if x%2 ==0]\n",
    "print(newList)"
   ]
  },
  {
   "cell_type": "code",
   "execution_count": 28,
   "id": "6b298569",
   "metadata": {},
   "outputs": [
    {
     "name": "stdout",
     "output_type": "stream",
     "text": [
      "[1, 2, 2, 3, 3, 4, 5, 6, 7, 8, 9, 10, 11, 12, 13, 14, 15, 43]\n",
      "[43, 15, 14, 13, 12, 11, 10, 9, 8, 7, 6, 5, 4, 3, 3, 2, 2, 1]\n",
      "[43, 15, 14, 13, 12, 11, 10, 9, 8, 7, 6, 5, 4, 3, 2, 1]\n"
     ]
    }
   ],
   "source": [
    "list2 = [5,2,3,4,1,10,14,43,12,9,8,7,6,11,13,15,3,2]\n",
    "list2.sort()\n",
    "print(list2)\n",
    "list2.sort(reverse=True)\n",
    "print(list2)\n",
    "newList=[]\n",
    "for list in list2:\n",
    "   if list not in newList:\n",
    "      newList.append(list)\n",
    "print(newList)\n",
    "\n",
    "\n",
    "\n"
   ]
  },
  {
   "cell_type": "code",
   "execution_count": 29,
   "id": "fa8167ee",
   "metadata": {},
   "outputs": [
    {
     "name": "stdout",
     "output_type": "stream",
     "text": [
      "[[1, 2, 3], [4, 5, 6], [7, 8, 9]]\n",
      "6\n"
     ]
    }
   ],
   "source": [
    "matrix = [\n",
    "    [1, 2, 3],\n",
    "    [4, 5, 6],\n",
    "    [7, 8, 9]\n",
    "]\n",
    "print(matrix)\n",
    "print(matrix[1][2])\n"
   ]
  },
  {
   "cell_type": "code",
   "execution_count": null,
   "id": "be140cd3",
   "metadata": {},
   "outputs": [
    {
     "name": "stdout",
     "output_type": "stream",
     "text": [
      "[{'name': 'Jack', 'score': 92}, {'name': 'John', 'score': 90}, {'name': 'Jane', 'score': 85}, {'name': 'Jim', 'score': 78}]\n"
     ]
    }
   ],
   "source": [
    "discitonary = [{'name': 'John','score': 90},\n",
    "               {'name': 'Jane','score': 85},    \n",
    "               {'name': 'Jim','score': 78}  ,    \n",
    "               {'name': 'Jack','score': 91}]\n",
    "discitonary.sort(key=lambda x: x['score'], reverse=True)\n",
    "print(discitonary)"
   ]
  }
 ],
 "metadata": {
  "kernelspec": {
   "display_name": "Python 3",
   "language": "python",
   "name": "python3"
  },
  "language_info": {
   "codemirror_mode": {
    "name": "ipython",
    "version": 3
   },
   "file_extension": ".py",
   "mimetype": "text/x-python",
   "name": "python",
   "nbconvert_exporter": "python",
   "pygments_lexer": "ipython3",
   "version": "3.12.0"
  }
 },
 "nbformat": 4,
 "nbformat_minor": 5
}
