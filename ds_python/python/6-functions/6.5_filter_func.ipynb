{
 "cells": [
  {
   "cell_type": "code",
   "execution_count": 2,
   "id": "5e989ed6",
   "metadata": {},
   "outputs": [
    {
     "data": {
      "text/plain": [
       "[2, 4, 6]"
      ]
     },
     "execution_count": 2,
     "metadata": {},
     "output_type": "execute_result"
    }
   ],
   "source": [
    "#filter using function\n",
    "def even(number):\n",
    "    return number%2==0\n",
    "\n",
    "number=[1,2,3,4,5,6]\n",
    "list(filter(even,number))"
   ]
  },
  {
   "cell_type": "code",
   "execution_count": 4,
   "id": "be09ea3e",
   "metadata": {},
   "outputs": [
    {
     "data": {
      "text/plain": [
       "[2, 4, 6]"
      ]
     },
     "execution_count": 4,
     "metadata": {},
     "output_type": "execute_result"
    }
   ],
   "source": [
    "#filter with lambda function\n",
    "list(filter(lambda x:x%2==0 ,number))"
   ]
  },
  {
   "cell_type": "code",
   "execution_count": 5,
   "id": "d3dfe1ff",
   "metadata": {},
   "outputs": [
    {
     "data": {
      "text/plain": [
       "[6]"
      ]
     },
     "execution_count": 5,
     "metadata": {},
     "output_type": "execute_result"
    }
   ],
   "source": [
    "#filter with multiple condition\n",
    "list(filter(lambda x:x>5 and x%2==0,number))\n"
   ]
  }
 ],
 "metadata": {
  "kernelspec": {
   "display_name": "Python 3",
   "language": "python",
   "name": "python3"
  },
  "language_info": {
   "codemirror_mode": {
    "name": "ipython",
    "version": 3
   },
   "file_extension": ".py",
   "mimetype": "text/x-python",
   "name": "python",
   "nbconvert_exporter": "python",
   "pygments_lexer": "ipython3",
   "version": "3.12.0"
  }
 },
 "nbformat": 4,
 "nbformat_minor": 5
}
