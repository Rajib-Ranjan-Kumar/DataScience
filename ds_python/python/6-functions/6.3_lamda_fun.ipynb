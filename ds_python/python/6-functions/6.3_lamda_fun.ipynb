{
 "cells": [
  {
   "cell_type": "markdown",
   "id": "206166ab",
   "metadata": {},
   "source": [
    "# Defination of Lambda Function\n",
    "* Lambda functions are small anonymous functions defined with the `lambda` keyword.\n",
    "* They can take any number of arguments but can only have one expression.\n",
    "* Syntax: lambda arguments: expression  \n"
   ]
  },
  {
   "cell_type": "code",
   "execution_count": 3,
   "id": "c0a2356c",
   "metadata": {},
   "outputs": [
    {
     "data": {
      "text/plain": [
       "function"
      ]
     },
     "execution_count": 3,
     "metadata": {},
     "output_type": "execute_result"
    }
   ],
   "source": [
    "#syntax of lamda function\n",
    "lambda arguments:expression\n",
    "\n",
    "#assigning to the variable\n",
    "lam=lambda arguments:expression\n",
    "type(lam)\n",
    "\n"
   ]
  },
  {
   "cell_type": "code",
   "execution_count": 4,
   "id": "ca64b17f",
   "metadata": {},
   "outputs": [
    {
     "name": "stdout",
     "output_type": "stream",
     "text": [
      "10\n"
     ]
    }
   ],
   "source": [
    "#Adding two number using lambda function\n",
    "addition = lambda a,b : a+b\n",
    "print(addition(6,4))"
   ]
  },
  {
   "cell_type": "code",
   "execution_count": 6,
   "id": "8228e682",
   "metadata": {},
   "outputs": [
    {
     "name": "stdout",
     "output_type": "stream",
     "text": [
      "15\n"
     ]
    }
   ],
   "source": [
    "#addition of three number\n",
    "addition = lambda a,b,c : a+b+c\n",
    "print(addition(4,5,6))"
   ]
  },
  {
   "cell_type": "code",
   "execution_count": 8,
   "id": "3826ba88",
   "metadata": {},
   "outputs": [
    {
     "name": "stdout",
     "output_type": "stream",
     "text": [
      "[9, 2025, 4489, 64, 25]\n"
     ]
    }
   ],
   "source": [
    "#Lambda function using map function\n",
    "numbers=[3,45,67,8,5]\n",
    "square=list(map(lambda x:x**2,numbers))\n",
    "print(square)"
   ]
  }
 ],
 "metadata": {
  "kernelspec": {
   "display_name": "Python 3",
   "language": "python",
   "name": "python3"
  },
  "language_info": {
   "codemirror_mode": {
    "name": "ipython",
    "version": 3
   },
   "file_extension": ".py",
   "mimetype": "text/x-python",
   "name": "python",
   "nbconvert_exporter": "python",
   "pygments_lexer": "ipython3",
   "version": "3.12.0"
  }
 },
 "nbformat": 4,
 "nbformat_minor": 5
}
