{
 "cells": [
  {
   "cell_type": "markdown",
   "id": "96f33f28",
   "metadata": {},
   "source": [
    "### 1. Temperature conversion"
   ]
  },
  {
   "cell_type": "code",
   "execution_count": 3,
   "id": "1b6c0607",
   "metadata": {},
   "outputs": [
    {
     "name": "stdout",
     "output_type": "stream",
     "text": [
      "98.6\n",
      "45.0\n"
     ]
    }
   ],
   "source": [
    "def t_conversion(temp,unit):\n",
    "    if(unit=='C'):\n",
    "        return temp*9/5+32\n",
    "    elif(unit=='F'):\n",
    "        return (temp-32)*5/9\n",
    "    else:\n",
    "        None\n",
    "\n",
    "print(t_conversion(37,'C'))\n",
    "print(t_conversion(113,'F'))"
   ]
  },
  {
   "cell_type": "markdown",
   "id": "9ccc8d8d",
   "metadata": {},
   "source": [
    "### 2. Password Strength Checker\n"
   ]
  },
  {
   "cell_type": "code",
   "execution_count": 5,
   "id": "1015bf96",
   "metadata": {},
   "outputs": [
    {
     "name": "stdout",
     "output_type": "stream",
     "text": [
      "False\n",
      "True\n"
     ]
    }
   ],
   "source": [
    "def pass_checker(password):\n",
    "    if not any (char.isdigit() for char in password):\n",
    "        return False\n",
    "    if not any (char.lower() for char in password):\n",
    "        return False\n",
    "    if not any (char.upper() for char in password):\n",
    "        return False\n",
    "    if not any (char in \"!@#$%^&*(_\" for char in password):\n",
    "        return False\n",
    "    \n",
    "    return True\n",
    "\n",
    "print(pass_checker(\"rajib\"))\n",
    "print(pass_checker(\"Rajib@1\"))"
   ]
  },
  {
   "cell_type": "markdown",
   "id": "d657f9a7",
   "metadata": {},
   "source": [
    "### 3. Calculate the Total Cost of Items in a Shopping Cart\n"
   ]
  },
  {
   "cell_type": "code",
   "execution_count": 15,
   "id": "f4bf1ca6",
   "metadata": {},
   "outputs": [
    {
     "name": "stdout",
     "output_type": "stream",
     "text": [
      "228\n"
     ]
    }
   ],
   "source": [
    "def ttl_cost(cart):\n",
    "    total_cost =0\n",
    "    for item in cart:\n",
    "         total_cost= item['price']*item['qty']\n",
    "    return total_cost\n",
    "         \n",
    "      \n",
    "\n",
    "\n",
    "cart=[{\"name\":\"banana\",\"price\":34,\"qty\":3}\n",
    "      ,{\"name\":\"apple\",\"price\":54,\"qty\":5},\n",
    "      {\"name\":\"banana\",\"price\":38,\"qty\":6}]\n",
    "\n",
    "print(ttl_cost(cart))\n",
    "\n",
    "\n"
   ]
  },
  {
   "cell_type": "markdown",
   "id": "fa21309b",
   "metadata": {},
   "source": [
    "### 4. Check if a String is a Palindrome"
   ]
  },
  {
   "cell_type": "code",
   "execution_count": 11,
   "id": "bb472d05",
   "metadata": {},
   "outputs": [
    {
     "name": "stdout",
     "output_type": "stream",
     "text": [
      "palindrome\n"
     ]
    }
   ],
   "source": [
    "def palindrom(str):\n",
    "    str=str.lower().replace(\" \",\"\")\n",
    "    return str[::-1]\n",
    "\n",
    "str1=\"A man a plan a Canal Panama\"\n",
    "str1=str1.lower().replace(\" \",\"\")\n",
    "str2=palindrom(str1)\n",
    "if(str1==str2):\n",
    "    print(\"palindrome\")"
   ]
  },
  {
   "cell_type": "markdown",
   "id": "5947262c",
   "metadata": {},
   "source": [
    "### 5. Calculate the Factorial of a Number\n"
   ]
  },
  {
   "cell_type": "code",
   "execution_count": 16,
   "id": "6637a802",
   "metadata": {},
   "outputs": [
    {
     "name": "stdout",
     "output_type": "stream",
     "text": [
      "2\n"
     ]
    }
   ],
   "source": [
    "def factorial(num):\n",
    "    if(num<=1):\n",
    "        return 1\n",
    "    return num*factorial(num-1)\n",
    "\n",
    "print(factorial(2))"
   ]
  },
  {
   "cell_type": "markdown",
   "id": "056437d4",
   "metadata": {},
   "source": [
    "### 6. A Function to read a file and count the frequency of each word\n",
    "\n"
   ]
  },
  {
   "cell_type": "code",
   "execution_count": 19,
   "id": "227ee020",
   "metadata": {},
   "outputs": [
    {
     "name": "stdout",
     "output_type": "stream",
     "text": [
      "{'rajib': 2, 'ranjan': 2, 'jaiswal': 1}\n"
     ]
    }
   ],
   "source": [
    "def frequency_c(file_path):\n",
    "    frequency={}\n",
    "    with open (file_path,'r') as file:\n",
    "         for line in file:\n",
    "              line=line.lower()\n",
    "              words=line.split()\n",
    "              for word in words:\n",
    "                   if word in frequency.keys():\n",
    "                        frequency[word]+=1\n",
    "                   else:\n",
    "                       frequency[word]=1\n",
    "    return frequency\n",
    "\n",
    "print(frequency_c('simple.txt'))\n",
    "                \n"
   ]
  }
 ],
 "metadata": {
  "kernelspec": {
   "display_name": "Python 3",
   "language": "python",
   "name": "python3"
  },
  "language_info": {
   "codemirror_mode": {
    "name": "ipython",
    "version": 3
   },
   "file_extension": ".py",
   "mimetype": "text/x-python",
   "name": "python",
   "nbconvert_exporter": "python",
   "pygments_lexer": "ipython3",
   "version": "3.12.0"
  }
 },
 "nbformat": 4,
 "nbformat_minor": 5
}
