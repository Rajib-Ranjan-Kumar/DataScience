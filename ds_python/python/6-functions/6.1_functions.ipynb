{
 "cells": [
  {
   "cell_type": "code",
   "execution_count": 3,
   "id": "88e70695",
   "metadata": {},
   "outputs": [],
   "source": [
    "#syntax\n",
    "def function_name(parameter,greet):\n",
    "    print(f\" {greet} {parameter}\")"
   ]
  },
  {
   "cell_type": "code",
   "execution_count": 4,
   "id": "809d70a3",
   "metadata": {},
   "outputs": [
    {
     "name": "stdout",
     "output_type": "stream",
     "text": [
      " good morning Rajib\n"
     ]
    }
   ],
   "source": [
    "#calling the function\n",
    "function_name(\"Rajib\",\"good morning\")"
   ]
  },
  {
   "cell_type": "code",
   "execution_count": 7,
   "id": "4579115c",
   "metadata": {},
   "outputs": [
    {
     "name": "stdout",
     "output_type": "stream",
     "text": [
      "Alex\n"
     ]
    }
   ],
   "source": [
    "#default parameter\n",
    "def f2(name=\"Alex\"):\n",
    "    print(f\"{name}\")\n",
    "\n",
    "f2()"
   ]
  },
  {
   "cell_type": "code",
   "execution_count": null,
   "id": "a7c02826",
   "metadata": {},
   "outputs": [
    {
     "name": "stdout",
     "output_type": "stream",
     "text": [
      "1\n",
      "2\n",
      "3\n",
      "4\n",
      "5\n",
      "6\n",
      "rajib\n",
      "ranjan\n"
     ]
    }
   ],
   "source": [
    "#Positional arguments\n",
    "def pos_arguments(*args):\n",
    "    for arg in args:\n",
    "        print(f\"{arg}\")\n",
    "#pos_arguments(1,2,3,4,5,6,\"rajib\",\"ranjan\")"
   ]
  },
  {
   "cell_type": "code",
   "execution_count": 12,
   "id": "fe8d2f34",
   "metadata": {},
   "outputs": [
    {
     "name": "stdout",
     "output_type": "stream",
     "text": [
      "key:value\n",
      "name:rajib\n"
     ]
    }
   ],
   "source": [
    "#keyword arguments\n",
    "def f3(**kwargs):\n",
    "    for key,value in kwargs.items():\n",
    "        print(f\"{key}:{value}\")\n",
    "\n",
    "f3(key=\"value\", name=\"rajib\")"
   ]
  },
  {
   "cell_type": "code",
   "execution_count": 14,
   "id": "ffa639fd",
   "metadata": {},
   "outputs": [
    {
     "name": "stdout",
     "output_type": "stream",
     "text": [
      "positional =1\n",
      "positional =23\n",
      "positional =4\n",
      "positional =5\n",
      "positional =rajib\n",
      "positional =ranjan\n",
      "fname:rajib\n",
      "lname:ranjan\n"
     ]
    }
   ],
   "source": [
    "#By using both keyword and positional arguments\n",
    "def f4(*args,**kwargs):\n",
    "    for arg in args:\n",
    "        print(f\"positional ={arg}\")\n",
    "    for key,value in kwargs.items():\n",
    "        print(f\"{key}:{value}\")\n",
    "\n",
    "f4(1,23,4,5,\"rajib\",\"ranjan\",fname=\"rajib\",lname=\"ranjan\")"
   ]
  },
  {
   "cell_type": "code",
   "execution_count": 15,
   "id": "c775530f",
   "metadata": {},
   "outputs": [
    {
     "name": "stdout",
     "output_type": "stream",
     "text": [
      "(35, -2)\n"
     ]
    }
   ],
   "source": [
    "#return \n",
    "def f5(a,b):\n",
    "    return a*b,a-b\n",
    "\n",
    "ans=f5(5,7)\n",
    "print(ans)"
   ]
  },
  {
   "cell_type": "markdown",
   "id": "207284cd",
   "metadata": {},
   "source": [
    "# ChatGpt's good note;\n",
    "\n",
    "Here's a complete, organized explanation of all the function-related concepts you're asking about, suitable for saving in your **Jupyter Notebook** (Markdown + Code format):\n",
    "\n",
    "---\n",
    "\n",
    "## 🔧 Function Basics in Python\n",
    "\n",
    "---\n",
    "\n",
    "### ✅ **Syntax of a Function**\n",
    "\n",
    "```python\n",
    "def greet():\n",
    "    print(\"Hello!\")\n",
    "```\n",
    "\n",
    "---\n",
    "\n",
    "### ✅ **Calling a Function**\n",
    "\n",
    "```python\n",
    "greet()  # Output: Hello!\n",
    "```\n",
    "\n",
    "---\n",
    "\n",
    "### ✅ **Function with Multiple Parameters**\n",
    "\n",
    "```python\n",
    "def add(a, b):\n",
    "    return a + b\n",
    "\n",
    "result = add(5, 3)\n",
    "print(result)  # Output: 8\n",
    "```\n",
    "\n",
    "---\n",
    "\n",
    "## 📌 Difference Between Parameter and Argument\n",
    "\n",
    "| Term          | Description                                                    | Where it's used                 |\n",
    "| ------------- | -------------------------------------------------------------- | ------------------------------- |\n",
    "| **Parameter** | A variable in the **function definition**.                     | When you **define** a function. |\n",
    "| **Argument**  | The actual value you **pass** to the function when calling it. | When you **call** a function.   |\n",
    "\n",
    "### Example:\n",
    "\n",
    "```python\n",
    "def greet(name):      # 'name' is a parameter\n",
    "    print(\"Hi\", name)\n",
    "\n",
    "greet(\"Alice\")        # \"Alice\" is the argument\n",
    "```\n",
    "\n",
    "---\n",
    "\n",
    "## 🔍 Function vs Method\n",
    "\n",
    "| Term         | Description                                                  | Associated With           |\n",
    "| ------------ | ------------------------------------------------------------ | ------------------------- |\n",
    "| **Function** | A block of reusable code that is **not bound to an object**. | Used independently        |\n",
    "| **Method**   | A function that is **associated with an object or class**.   | Used with classes/objects |\n",
    "\n",
    "### Example:\n",
    "\n",
    "```python\n",
    "# Function\n",
    "def square(x):\n",
    "    return x * x\n",
    "\n",
    "# Method (used with object)\n",
    "text = \"hello\"\n",
    "print(text.upper())  # 'upper' is a string method\n",
    "```\n",
    "\n",
    "---\n",
    "\n",
    "## 🧱 Default Parameters\n",
    "\n",
    "```python\n",
    "def greet(name=\"Guest\"):\n",
    "    print(\"Hello\", name)\n",
    "\n",
    "greet()           # Output: Hello Guest\n",
    "greet(\"Rajib\")    # Output: Hello Rajib\n",
    "```\n",
    "\n",
    "---\n",
    "\n",
    "## ⚖️ Positional vs Keyword Arguments\n",
    "\n",
    "```python\n",
    "def describe(name, age):\n",
    "    print(f\"{name} is {age} years old.\")\n",
    "\n",
    "describe(\"Alice\", 20)                    # Positional\n",
    "describe(age=22, name=\"Bob\")            # Keyword\n",
    "describe(\"Carol\", age=25)               # Both mixed\n",
    "```\n",
    "\n",
    "---\n",
    "\n",
    "## 🔁 RETURN Statement – Multiple Values\n",
    "\n",
    "Yes, you **can return multiple values** from a function. They are returned as a **tuple**.\n",
    "\n",
    "```python\n",
    "def calculate(a, b):\n",
    "    sum_ = a + b\n",
    "    product = a * b\n",
    "    return sum_, product\n",
    "\n",
    "result = calculate(3, 4)\n",
    "print(result)          # Output: (7, 12)\n",
    "\n",
    "# You can unpack them too\n",
    "s, p = calculate(5, 6)\n",
    "print(\"Sum:\", s)       # Output: Sum: 11\n",
    "print(\"Product:\", p)   # Output: Product: 30\n",
    "```\n",
    "\n",
    "---\n",
    "\n"
   ]
  }
 ],
 "metadata": {
  "kernelspec": {
   "display_name": "Python 3",
   "language": "python",
   "name": "python3"
  },
  "language_info": {
   "codemirror_mode": {
    "name": "ipython",
    "version": 3
   },
   "file_extension": ".py",
   "mimetype": "text/x-python",
   "name": "python",
   "nbconvert_exporter": "python",
   "pygments_lexer": "ipython3",
   "version": "3.12.0"
  }
 },
 "nbformat": 4,
 "nbformat_minor": 5
}
