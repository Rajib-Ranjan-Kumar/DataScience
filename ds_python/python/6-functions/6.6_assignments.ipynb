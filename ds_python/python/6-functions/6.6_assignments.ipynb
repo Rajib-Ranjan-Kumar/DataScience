{
 "cells": [
  {
   "cell_type": "code",
   "execution_count": 15,
   "id": "c493479c",
   "metadata": {},
   "outputs": [
    {
     "data": {
      "text/plain": [
       "13"
      ]
     },
     "execution_count": 15,
     "metadata": {},
     "output_type": "execute_result"
    }
   ],
   "source": [
    "#recursive fibonacci sequence\n",
    "def fibo(n):\n",
    "    if n==1 or n==0 :\n",
    "        return 0\n",
    "    if n==2:\n",
    "        return 1\n",
    "    if n==3:\n",
    "        return 2\n",
    "    \n",
    "    return fibo(n-2)+fibo(n-1)\n",
    "\n",
    "fibo(7)"
   ]
  },
  {
   "cell_type": "code",
   "execution_count": null,
   "id": "88189517",
   "metadata": {},
   "outputs": [],
   "source": [
    "#funciton with nested default argument\n",
    "def fun(a,b={}):\n",
    "     b[a]=\"rajib\"\n",
    "     return b\n",
    "\n"
   ]
  },
  {
   "cell_type": "markdown",
   "id": "532ce318",
   "metadata": {},
   "source": [
    "### Assignment 3: Function with Variable Keyword Arguments\n",
    "\n",
    "Define a function that takes a variable number of keyword arguments and returns a dictionary containing only those key-value pairs where the value is an integer. Test the function with different inputs."
   ]
  },
  {
   "cell_type": "code",
   "execution_count": 1,
   "id": "6f895b00",
   "metadata": {},
   "outputs": [
    {
     "data": {
      "text/plain": [
       "{'roll': 45, 'age': 4}"
      ]
     },
     "execution_count": 1,
     "metadata": {},
     "output_type": "execute_result"
    }
   ],
   "source": [
    "def fun2(**kwargs):\n",
    "    dict={}\n",
    "    for key,value in kwargs.items():\n",
    "        if isinstance(value,int):\n",
    "            dict[key]=value\n",
    "        \n",
    "    return dict\n",
    "\n",
    "fun2(name=\"rajib\",roll=45,age=4)\n"
   ]
  },
  {
   "cell_type": "markdown",
   "id": "5e6b161b",
   "metadata": {},
   "source": [
    "### Assignment 4: Function with Callback\n",
    "\n",
    "Define a function that takes another function as a callback and a list of integers. The function should apply the callback to each integer in the list and return a new list with the results. Test with different callback functions."
   ]
  },
  {
   "cell_type": "code",
   "execution_count": 5,
   "id": "3db586ba",
   "metadata": {},
   "outputs": [
    {
     "name": "stdout",
     "output_type": "stream",
     "text": [
      "[4, 6, 6, 8]\n",
      "[3, 5, 7]\n"
     ]
    }
   ],
   "source": [
    "def fun3(callback,numbers):\n",
    "    l=[]\n",
    "    for number in numbers:\n",
    "        if callback(number):\n",
    "            l.append(number)\n",
    "    return l\n",
    "\n",
    "def even(num):\n",
    "    return num%2==0\n",
    "def odd(num):\n",
    "    return num%2==1\n",
    "\n",
    "print(fun3(even,[3,4,5,6,6,7,8]))\n",
    "print(fun3(odd,[3,4,5,6,6,7,8]))\n"
   ]
  },
  {
   "cell_type": "markdown",
   "id": "56175ca7",
   "metadata": {},
   "source": [
    "### Assignment 5: Function that Returns a Function\n",
    "\n",
    "Define a function that returns another function. The returned function should take an integer and return its square. Test the returned function with different inputs."
   ]
  },
  {
   "cell_type": "code",
   "execution_count": null,
   "id": "4b30e79a",
   "metadata": {},
   "outputs": [
    {
     "data": {
      "text/plain": [
       "36"
      ]
     },
     "execution_count": 7,
     "metadata": {},
     "output_type": "execute_result"
    }
   ],
   "source": [
    "def fun4():\n",
    "    return lambda x:x**2\n",
    "\n",
    "s=fun4()\n",
    "print(s(4))\n",
    "print(s(6))\n",
    "\n"
   ]
  },
  {
   "cell_type": "markdown",
   "id": "9fdce539",
   "metadata": {},
   "source": [
    "### Assignment 6: Function with Decorators\n",
    "\n",
    "Define a function that calculates the time taken to execute another function. Apply this decorator to a function that performs a complex calculation. Test the decorated function with different inputs."
   ]
  },
  {
   "cell_type": "code",
   "execution_count": 14,
   "id": "fbe372ea",
   "metadata": {},
   "outputs": [
    {
     "name": "stdout",
     "output_type": "stream",
     "text": [
      "4.299974534660578e-06\n"
     ]
    },
    {
     "data": {
      "text/plain": [
       "333833500"
      ]
     },
     "execution_count": 14,
     "metadata": {},
     "output_type": "execute_result"
    }
   ],
   "source": [
    "import time\n",
    "def fun5(n):\n",
    "    start=time.perf_counter()\n",
    "    fun2(name=\"rajib\",roll=45,age=4)\n",
    "    end=time.perf_counter()\n",
    "    print(end-start)\n",
    "    return sum(i * i for i in range(1, n + 1))\n",
    "\n",
    "fun5(1000)"
   ]
  },
  {
   "cell_type": "markdown",
   "id": "17d7f607",
   "metadata": {},
   "source": [
    "### Assignment 7: Higher-Order Function for Filtering and Mapping\n",
    "\n",
    "Define a higher-order function that takes two functions, a filter function and a map function, along with a list of integers. The higher-order function should first filter the integers using the filter function and then apply the map function to the filtered integers. Test with different filter and map functions."
   ]
  },
  {
   "cell_type": "code",
   "execution_count": 17,
   "id": "d963ff4c",
   "metadata": {},
   "outputs": [
    {
     "data": {
      "text/plain": [
       "[4, 16]"
      ]
     },
     "execution_count": 17,
     "metadata": {},
     "output_type": "execute_result"
    }
   ],
   "source": [
    "def fun6(ffilter,mmap,numbers):\n",
    "    numbers=list(filter(ffilter,numbers))\n",
    "\n",
    "    return list(map(mmap,numbers))\n",
    "\n",
    "ffilter=lambda x:x%2==0\n",
    "mmap=lambda x:x**2\n",
    "filter\n",
    "fun6(ffilter,mmap,[1,2,3,4,5])\n"
   ]
  },
  {
   "cell_type": "markdown",
   "id": "485b56ce",
   "metadata": {},
   "source": [
    "### Assignment 8: Function Composition\n",
    "\n",
    "Define a function that composes two functions, f and g, such that the result is f(g(x)). Test with different functions f and g.\n"
   ]
  },
  {
   "cell_type": "code",
   "execution_count": null,
   "id": "d4cb2836",
   "metadata": {},
   "outputs": [
    {
     "data": {
      "text/plain": [
       "14"
      ]
     },
     "execution_count": 19,
     "metadata": {},
     "output_type": "execute_result"
    }
   ],
   "source": [
    "def f(num):\n",
    "    return 2*num\n",
    "def g(num):\n",
    "    return 2+num\n",
    "\n",
    "def fog(f,g,num):\n",
    "    num=g(num)\n",
    "    return f(num)\n",
    "fog(f,g,5)"
   ]
  },
  {
   "cell_type": "markdown",
   "id": "501efbae",
   "metadata": {},
   "source": [
    "### Assignment 9: Partial Function Application\n",
    "\n",
    "Use the functools.partial function to create a new function that multiplies its input by 2. Test the new function with different inputs."
   ]
  },
  {
   "cell_type": "code",
   "execution_count": null,
   "id": "fec3b41f",
   "metadata": {},
   "outputs": [],
   "source": [
    "from functools import partial\n",
    "\n",
    "def multiply(x, y):\n",
    "    return x * y\n",
    "\n",
    "double = partial(multiply, 2)\n",
    "\n",
    "# Testing\n",
    "print(double(3))   # 6\n",
    "print(double(10))  # 20\n",
    "print(double(-4))  # -8\n"
   ]
  },
  {
   "cell_type": "markdown",
   "id": "d51759c4",
   "metadata": {},
   "source": [
    "### Assignment 10: Function with Error Handling\n",
    "\n",
    "Define a function that takes a list of integers and returns their average. The function should handle any errors that occur (e.g., empty list) and return None in such cases. Test with different inputs."
   ]
  },
  {
   "cell_type": "markdown",
   "id": "4abb68fe",
   "metadata": {},
   "source": [
    "### Assignment 11: Function with Generators\n",
    "\n",
    "Define a function that generates an infinite sequence of Fibonacci numbers. Test by printing the first 10 numbers in the sequence."
   ]
  }
 ],
 "metadata": {
  "kernelspec": {
   "display_name": "Python 3",
   "language": "python",
   "name": "python3"
  },
  "language_info": {
   "codemirror_mode": {
    "name": "ipython",
    "version": 3
   },
   "file_extension": ".py",
   "mimetype": "text/x-python",
   "name": "python",
   "nbconvert_exporter": "python",
   "pygments_lexer": "ipython3",
   "version": "3.12.0"
  }
 },
 "nbformat": 4,
 "nbformat_minor": 5
}
