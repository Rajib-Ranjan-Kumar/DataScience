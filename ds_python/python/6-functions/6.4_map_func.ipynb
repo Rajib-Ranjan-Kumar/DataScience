{
 "cells": [
  {
   "cell_type": "markdown",
   "id": "f8f58983",
   "metadata": {},
   "source": [
    "### Map function defination\n",
    "map function is used to apply a function to all the items in an iterable (like a list) and return a map object (which is an iterator).\n",
    "### Syntax\n",
    "\n"
   ]
  },
  {
   "cell_type": "code",
   "execution_count": null,
   "id": "6b66807f",
   "metadata": {},
   "outputs": [],
   "source": [
    "def square(x):\n",
    "    return x**2;\n",
    "square(20)"
   ]
  },
  {
   "cell_type": "code",
   "execution_count": 3,
   "id": "70bee106",
   "metadata": {},
   "outputs": [
    {
     "name": "stdout",
     "output_type": "stream",
     "text": [
      "[4, 9, 2025, 36, 64]\n"
     ]
    }
   ],
   "source": [
    "def square(x):\n",
    "    return x**2;\n",
    "square(20)\n",
    "numbers=[2,3,45,6,8]\n",
    "squa=list(map(square,numbers))\n",
    "print(squa)"
   ]
  },
  {
   "cell_type": "code",
   "execution_count": 4,
   "id": "4e11ad21",
   "metadata": {},
   "outputs": [
    {
     "name": "stdout",
     "output_type": "stream",
     "text": [
      "[4, 9, 2025, 36, 64]\n"
     ]
    }
   ],
   "source": [
    "# lambda function with map\n",
    "squa2=list(map(lambda x:x**2 ,numbers))\n",
    "print(squa2)"
   ]
  },
  {
   "cell_type": "code",
   "execution_count": 6,
   "id": "d33908b4",
   "metadata": {},
   "outputs": [
    {
     "name": "stdout",
     "output_type": "stream",
     "text": [
      "[2, 6, 8, 10, 10, 12]\n"
     ]
    }
   ],
   "source": [
    "# map with multiple iterables\n",
    "num1=[1,2,3,4,5,6]\n",
    "num2=[1,4,5,6,5,6]\n",
    "add=list(map(lambda x,y:x+y,num1,num2))\n",
    "print(add)"
   ]
  },
  {
   "cell_type": "code",
   "execution_count": 8,
   "id": "163bcbc0",
   "metadata": {},
   "outputs": [
    {
     "name": "stdout",
     "output_type": "stream",
     "text": [
      "[1, 2, 3, 4]\n"
     ]
    }
   ],
   "source": [
    "#using map of list of string to integer\n",
    "string=[\"1\",\"2\",\"3\",\"4\"]\n",
    "lst=list(map(lambda x:int(x),string))\n",
    "print(lst)\n"
   ]
  },
  {
   "cell_type": "code",
   "execution_count": 10,
   "id": "bf606010",
   "metadata": {},
   "outputs": [
    {
     "data": {
      "text/plain": [
       "['APPLE', 'BANANA', 'MANGO']"
      ]
     },
     "execution_count": 10,
     "metadata": {},
     "output_type": "execute_result"
    }
   ],
   "source": [
    "#map function with inbuild function\n",
    "words=[\"apple\",\"banana\",\"mango\"]\n",
    "Words=list(map(str.upper,words))\n",
    "Words\n"
   ]
  },
  {
   "cell_type": "code",
   "execution_count": 12,
   "id": "fbec7986",
   "metadata": {},
   "outputs": [
    {
     "data": {
      "text/plain": [
       "['rajib', 'ranjana']"
      ]
     },
     "execution_count": 12,
     "metadata": {},
     "output_type": "execute_result"
    }
   ],
   "source": [
    "#map function with dictionary\n",
    "students=[\n",
    "     {\"name\":\"rajib\",\"roll\":1},\n",
    "     {\"name\":\"ranjana\",\"roll\":2}\n",
    "]\n",
    "list_name=list(map(lambda x:x[\"name\"],students))\n",
    "list_name"
   ]
  },
  {
   "cell_type": "markdown",
   "id": "48fadb9c",
   "metadata": {},
   "source": [
    "### conclusion\n",
    "#### # Conclusion of map function in Python\n",
    "The map function in Python efficiently applies a given function to all items in an iterable, enabling concise, readable, and functional-style transformations of data collections."
   ]
  }
 ],
 "metadata": {
  "kernelspec": {
   "display_name": "Python 3",
   "language": "python",
   "name": "python3"
  },
  "language_info": {
   "codemirror_mode": {
    "name": "ipython",
    "version": 3
   },
   "file_extension": ".py",
   "mimetype": "text/x-python",
   "name": "python",
   "nbconvert_exporter": "python",
   "pygments_lexer": "ipython3",
   "version": "3.12.0"
  }
 },
 "nbformat": 4,
 "nbformat_minor": 5
}
