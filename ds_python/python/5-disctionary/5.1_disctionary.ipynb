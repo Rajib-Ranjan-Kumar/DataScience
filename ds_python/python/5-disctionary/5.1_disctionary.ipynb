{
 "cells": [
  {
   "cell_type": "markdown",
   "id": "3d671cd8",
   "metadata": {},
   "source": [
    "### Defination of a Dictionary\n",
    "#### A dictionary is a collection of key-value pairs, where each key is unique and maps to a specific value. It is an unordered collection, meaning that the items do not have a defined order, and they can be changed (mutable). Dictionaries are defined using curly braces `{}` with key-value pairs separated by colons `:`.  \n"
   ]
  },
  {
   "cell_type": "markdown",
   "id": "ff6cf1f0",
   "metadata": {},
   "source": [
    "Sure! Here's how to document all these dictionary operations in a **Markdown section** (as a **note**, not code) inside a **Jupyter Notebook**:\n",
    "\n",
    "---\n",
    "\n",
    "### 📝 **Working with Python Dictionaries**\n",
    "\n",
    "#### 📌 **Creating an Empty Dictionary Using `dict()`**\n",
    "\n",
    "You can create an empty dictionary by calling the built-in `dict()` function without any arguments. This is functionally the same as using `{}`.\n",
    "\n",
    "#### 📌 **Creating a Dictionary Using `dict()`**\n",
    "\n",
    "The `dict()` function can also be used to create dictionaries with initial key-value pairs. You can pass either:\n",
    "\n",
    "* **Keyword arguments** (e.g., `dict(name=\"Rajib\", age=21)`)\n",
    "* An **iterable** of key-value pairs (e.g., `dict([(\"name\", \"Rajib\"), (\"age\", 21)])`)\n",
    "\n",
    "#### 📌 **Accessing Values Using Keys**\n",
    "\n",
    "Values in a dictionary are accessed using their corresponding keys like `my_dict[\"key\"]`. If the key exists, it returns the associated value. If the key does not exist, it raises a `KeyError`.\n",
    "\n",
    "#### 📌 **Accessing Values Using `get()` Method**\n",
    "\n",
    "The `get()` method provides a safe way to access dictionary values. If the key exists, it returns the value; otherwise, it returns `None` or a specified default value like `my_dict.get(\"key\", \"default_value\")`.\n",
    "\n",
    "#### 📌 **Modifying Values**\n",
    "\n",
    "To modify a value in a dictionary, assign a new value to an existing key: `my_dict[\"key\"] = new_value`.\n",
    "\n",
    "#### 📌 **Adding New Key-Value Pairs**\n",
    "\n",
    "Adding a new key-value pair is done similarly to modification. If the key doesn’t exist, it’s added: `my_dict[\"new_key\"] = value`.\n",
    "\n",
    "#### 📌 **Removing Key-Value Pairs Using `del`**\n",
    "\n",
    "To remove a key-value pair, use the `del` statement: `del my_dict[\"key\"]`. If the key does not exist, this will raise a `KeyError`.\n",
    "\n",
    "#### 📌 **Dictionary Methods**\n",
    "\n",
    "* `keys()` returns a view object with all keys in the dictionary.\n",
    "* `values()` returns a view object with all values.\n",
    "* `items()` returns a view of all key-value pairs as tuples.\n",
    "\n",
    "#### 📌 **Shallow Copy of a Dictionary**\n",
    "\n",
    "A **shallow copy** creates a new dictionary with references to the original dictionary’s values. Changes to **mutable objects** inside the copied dictionary will reflect in the original. Use `copy()` method for this:\n",
    "\n",
    "```python\n",
    "dict_copy = original_dict.copy()\n",
    "```\n",
    "\n",
    "Note that this does **not** create a deep (fully independent) copy.\n",
    "\n",
    "---\n",
    "\n",
    "Let me know if you'd like the code cells to go along with this Markdown!\n"
   ]
  },
  {
   "cell_type": "code",
   "execution_count": 11,
   "id": "9a4c96cc",
   "metadata": {},
   "outputs": [
    {
     "name": "stdout",
     "output_type": "stream",
     "text": [
      "{'name': 'rajib', 'age': 21, 'semester': 5}\n",
      "{'name': 'sagar', 'age': 25, 'semester': 4}\n"
     ]
    }
   ],
   "source": [
    "#creating disctionary\n",
    "disc={\"name\":\"rajib\",\"age\":21,\"semester\":5}\n",
    "disc2=dict(name=\"sagar\",age=25,semester=4)\n",
    "print(disc)\n",
    "print(disc2)"
   ]
  },
  {
   "cell_type": "code",
   "execution_count": 12,
   "id": "bba2fe5a",
   "metadata": {},
   "outputs": [
    {
     "name": "stdout",
     "output_type": "stream",
     "text": [
      "sagar\n",
      "rajib\n"
     ]
    }
   ],
   "source": [
    "#print values using keys\n",
    "print(disc2['name'])\n",
    "print(disc['name'])"
   ]
  },
  {
   "cell_type": "code",
   "execution_count": 13,
   "id": "e86a5f1d",
   "metadata": {},
   "outputs": [
    {
     "name": "stdout",
     "output_type": "stream",
     "text": [
      "{'name': 'shivam', 'age': 21, 'semester': 5}\n",
      "{'name': 'sagar', 'age': 23, 'semester': 4}\n"
     ]
    }
   ],
   "source": [
    "#modifiing the value\n",
    "disc['name']=\"shivam\"\n",
    "disc2['age']=23\n",
    "print(disc)\n",
    "print(disc2)"
   ]
  },
  {
   "cell_type": "code",
   "execution_count": 14,
   "id": "6cc9268f",
   "metadata": {},
   "outputs": [
    {
     "name": "stdout",
     "output_type": "stream",
     "text": [
      "shivam\n",
      "not found\n"
     ]
    }
   ],
   "source": [
    "#accessing using get method\n",
    "print(disc.get('name'))\n",
    "print(disc2.get(\"roll\", \"not found\"))"
   ]
  },
  {
   "cell_type": "code",
   "execution_count": 15,
   "id": "1dd631ea",
   "metadata": {},
   "outputs": [
    {
     "name": "stdout",
     "output_type": "stream",
     "text": [
      "{'name': 'sagar', 'age': 25, 'semester': 4}\n",
      "{'name': 'sagar', 'age': 25, 'semester': 4, 'roll': 23053748}\n",
      "{'name': 'sagar', 'age': 25, 'semester': 4, 'roll': 23053748, 'branch': 'B.Tech(CSE)'}\n"
     ]
    }
   ],
   "source": [
    "#addign new values to the dictionary\n",
    "disc2=dict(name=\"sagar\",age=25,semester=4)\n",
    "print(disc2)\n",
    "disc2[\"roll\"]=23053748\n",
    "print(disc2)\n",
    "disc2[\"branch\"]=\"B.Tech(CSE)\"\n",
    "print(disc2)"
   ]
  },
  {
   "cell_type": "code",
   "execution_count": 16,
   "id": "4a854656",
   "metadata": {},
   "outputs": [
    {
     "name": "stdout",
     "output_type": "stream",
     "text": [
      "{'age': 25, 'semester': 4, 'roll': 23053748, 'branch': 'B.Tech(CSE)'}\n",
      "{'age': 25, 'roll': 23053748, 'branch': 'B.Tech(CSE)'}\n"
     ]
    }
   ],
   "source": [
    "#removing the key value pair from the disctionary\n",
    "\n",
    "del disc2[\"name\"]\n",
    "print(disc2)\n",
    "\n",
    "del disc2[\"semester\"]\n",
    "print(disc2)"
   ]
  },
  {
   "cell_type": "code",
   "execution_count": null,
   "id": "00d3379d",
   "metadata": {},
   "outputs": [
    {
     "name": "stdout",
     "output_type": "stream",
     "text": [
      "dict_keys(['age', 'roll', 'branch'])\n",
      "dict_values([25, 23053748, 'B.Tech(CSE)'])\n",
      "dict_items([('age', 25), ('roll', 23053748), ('branch', 'B.Tech(CSE)')])\n"
     ]
    }
   ],
   "source": [
    "#Dictionary Methods\n",
    "\n",
    "#keys\n",
    "#getting all keys\n",
    "keys=disc2.keys()\n",
    "print(keys)\n",
    "\n",
    "#values\n",
    "#getting all values \n",
    "values=disc2.values()\n",
    "print(values)\n",
    "\n",
    "#item\n",
    "#getting items -> getting all values pairf\n",
    "items=disc2.items()\n",
    "print(items)"
   ]
  },
  {
   "cell_type": "markdown",
   "id": "2081c3ac",
   "metadata": {},
   "source": [
    "iterative over the dictionary using a `for` loop:\n",
    "     over keys onlys\n",
    "     over values only\n",
    "     over key-value pairs\n",
    "Nested dictionaries\n",
    "\n"
   ]
  },
  {
   "cell_type": "code",
   "execution_count": 22,
   "id": "c394f717",
   "metadata": {},
   "outputs": [
    {
     "name": "stdout",
     "output_type": "stream",
     "text": [
      "name\n",
      "age\n"
     ]
    }
   ],
   "source": [
    "#Iterative over the keys only\n",
    "new = {\"name\":\"rajib\",\"age\":21}\n",
    "for key in new.keys():\n",
    "    print(key)"
   ]
  },
  {
   "cell_type": "code",
   "execution_count": 23,
   "id": "719184b8",
   "metadata": {},
   "outputs": [
    {
     "name": "stdout",
     "output_type": "stream",
     "text": [
      "rajib\n",
      "21\n"
     ]
    }
   ],
   "source": [
    "#Iterative over the values only\n",
    "for value in new.values():\n",
    "    print(value)"
   ]
  },
  {
   "cell_type": "code",
   "execution_count": 24,
   "id": "95d49dbc",
   "metadata": {},
   "outputs": [
    {
     "name": "stdout",
     "output_type": "stream",
     "text": [
      "name:rajib\n",
      "age:21\n"
     ]
    }
   ],
   "source": [
    "#Iterative over the keys and values\n",
    "for keys,value in new.items():\n",
    "    print(f\"{keys}:{value}\")"
   ]
  },
  {
   "cell_type": "code",
   "execution_count": 25,
   "id": "03e60925",
   "metadata": {},
   "outputs": [
    {
     "name": "stdout",
     "output_type": "stream",
     "text": [
      "dict_values(['rajib', 21])\n"
     ]
    }
   ],
   "source": [
    "print(new.values())"
   ]
  },
  {
   "cell_type": "code",
   "execution_count": 28,
   "id": "16580200",
   "metadata": {},
   "outputs": [
    {
     "name": "stdout",
     "output_type": "stream",
     "text": [
      "{'student1': {'name': 'Rajib', 'roll': 23053748}, 'student2': {'name': 'Rabi', 'roll': 23053749}}\n"
     ]
    }
   ],
   "source": [
    "#nested dictionaries \n",
    "students = {\n",
    "    \"student1\":{\"name\":\"Rajib\",\"roll\":23053748},\n",
    "    \"student2\":{\"name\":\"Rabi\",\"roll\":23053749}\n",
    "}\n",
    "print(students)"
   ]
  },
  {
   "cell_type": "code",
   "execution_count": 31,
   "id": "da57fce4",
   "metadata": {},
   "outputs": [
    {
     "name": "stdout",
     "output_type": "stream",
     "text": [
      "Rajib\n",
      "23053748\n"
     ]
    }
   ],
   "source": [
    "#Acessing the values of nested dictionary\n",
    "print(students[\"student1\"][\"name\"])\n",
    "print(students[\"student1\"][\"roll\"])"
   ]
  },
  {
   "cell_type": "code",
   "execution_count": 44,
   "id": "ddc1dafc",
   "metadata": {},
   "outputs": [
    {
     "name": "stdout",
     "output_type": "stream",
     "text": [
      "student1\n",
      "name:Rajib\n",
      "roll:23053748\n",
      "student2\n",
      "name:Rabi\n",
      "roll:23053749\n"
     ]
    }
   ],
   "source": [
    "#nested dictionary using iterative way\n",
    "students = {\n",
    "    \"student1\":{\"name\":\"Rajib\",\"roll\":23053748},\n",
    "    \"student2\":{\"name\":\"Rabi\",\"roll\":23053749}\n",
    "}\n",
    "for student,student_info in students.items():\n",
    "    print(student)\n",
    "    for key,value in student_info.items():\n",
    "        print(f\"{key}:{value}\")"
   ]
  },
  {
   "cell_type": "code",
   "execution_count": 45,
   "id": "395114f2",
   "metadata": {},
   "outputs": [
    {
     "name": "stdout",
     "output_type": "stream",
     "text": [
      "{0: 0, 1: 1, 2: 4, 3: 9, 4: 16}\n"
     ]
    }
   ],
   "source": [
    "#Dictionary comprehension\n",
    "dicti={x:x**2 for x in range(5)}\n",
    "print(dicti)"
   ]
  },
  {
   "cell_type": "code",
   "execution_count": 47,
   "id": "88e10795",
   "metadata": {},
   "outputs": [
    {
     "name": "stdout",
     "output_type": "stream",
     "text": [
      "{0: 0, 2: 4, 4: 16}\n"
     ]
    }
   ],
   "source": [
    "#using conditional statemen\n",
    "even ={x:x**2  for x in range(5) if(x%2==0)}\n",
    "print(even)"
   ]
  },
  {
   "cell_type": "code",
   "execution_count": null,
   "id": "2b6f1a55",
   "metadata": {},
   "outputs": [
    {
     "name": "stdout",
     "output_type": "stream",
     "text": [
      "{1: 1, 4: 7, 6: 1, 2: 2, 8: 2, 7: 3, 5: 2, 3: 2, 9: 1}\n"
     ]
    }
   ],
   "source": [
    "#practical example\n",
    "#finding the frequency of numbers usin dictionary\n",
    "numbers=[1,4,6,4,4,4,2,8,7,5,4,7,4,3,2,7,8,5,9,4,3]\n",
    "frequency={}\n",
    "for n in numbers:\n",
    "    if(n in frequency):\n",
    "        frequency[n]+=1\n",
    "    else:\n",
    "        frequency[n]=1\n",
    "print(frequency)\n"
   ]
  },
  {
   "cell_type": "code",
   "execution_count": 49,
   "id": "16999588",
   "metadata": {},
   "outputs": [
    {
     "name": "stdout",
     "output_type": "stream",
     "text": [
      "{'n': 1, 'a': 4, 'r': 4}\n"
     ]
    }
   ],
   "source": [
    "#merge two dictionaries into one\n",
    "d1={\"n\":1,\"a\":2}\n",
    "d2={\"r\":4,\"a\":4}\n",
    "merged_dictionary={**d1,**d2}\n",
    "print(merged_dictionary)"
   ]
  }
 ],
 "metadata": {
  "kernelspec": {
   "display_name": "Python 3",
   "language": "python",
   "name": "python3"
  },
  "language_info": {
   "codemirror_mode": {
    "name": "ipython",
    "version": 3
   },
   "file_extension": ".py",
   "mimetype": "text/x-python",
   "name": "python",
   "nbconvert_exporter": "python",
   "pygments_lexer": "ipython3",
   "version": "3.12.0"
  }
 },
 "nbformat": 4,
 "nbformat_minor": 5
}
