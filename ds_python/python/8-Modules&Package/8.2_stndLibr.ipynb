{
 "cells": [
  {
   "cell_type": "markdown",
   "id": "888cd8aa",
   "metadata": {},
   "source": [
    "### Standard Library Overview\n",
    "Python's standard library is a collection of modules and packages that come bundled with Python installations. It provides a wide range of functionalities, from file I/O to web development, without the need for external libraries."
   ]
  },
  {
   "cell_type": "code",
   "execution_count": null,
   "id": "b9275412",
   "metadata": {},
   "outputs": [],
   "source": [
    "#first standard library\n",
    "#array\n",
    "#math\n",
    "#random->randint,choice\n",
    "#os->file and directory acess(getcwd)(mkdir)\n",
    "#high level operations on files and collection of files(shutil)\n",
    "#Data Serialization(jason.dumps)\n",
    "#csv\n",
    "#datetime(datetime,timedelta)\n",
    "#time->sleep\n",
    "#regular expression(re)\n"
   ]
  },
  {
   "cell_type": "code",
   "execution_count": 2,
   "id": "31d7e56f",
   "metadata": {},
   "outputs": [
    {
     "name": "stdout",
     "output_type": "stream",
     "text": [
      "array('i', [1, 2, 3, 4])\n"
     ]
    }
   ],
   "source": [
    "import array\n",
    "a=array.array('i',[1,2,3,4])\n",
    "print(a)"
   ]
  },
  {
   "cell_type": "code",
   "execution_count": 3,
   "id": "db150ea3",
   "metadata": {},
   "outputs": [
    {
     "name": "stdout",
     "output_type": "stream",
     "text": [
      "2.0\n"
     ]
    }
   ],
   "source": [
    "import math\n",
    "print(math.sqrt(4))"
   ]
  },
  {
   "cell_type": "code",
   "execution_count": 15,
   "id": "715a46e7",
   "metadata": {},
   "outputs": [
    {
     "name": "stdout",
     "output_type": "stream",
     "text": [
      "8\n",
      "scissor\n"
     ]
    }
   ],
   "source": [
    "import random\n",
    "print(random.randint(1,10))\n",
    "print(random.choice([\"rock\",\"paper\",\"scissor\"]))"
   ]
  },
  {
   "cell_type": "code",
   "execution_count": 16,
   "id": "e9cc6605",
   "metadata": {},
   "outputs": [
    {
     "name": "stdout",
     "output_type": "stream",
     "text": [
      "c:\\ds\\ds_python\\python\\8-Modules&Package\n"
     ]
    }
   ],
   "source": [
    "import os\n",
    "print(os.getcwd())"
   ]
  },
  {
   "cell_type": "code",
   "execution_count": 17,
   "id": "f6306f4d",
   "metadata": {},
   "outputs": [],
   "source": [
    "os.mkdir(\"rajib\")"
   ]
  },
  {
   "cell_type": "code",
   "execution_count": 18,
   "id": "6c27edbc",
   "metadata": {},
   "outputs": [],
   "source": [
    "os.rmdir(\"rajib\")"
   ]
  },
  {
   "cell_type": "code",
   "execution_count": 21,
   "id": "6f73eadd",
   "metadata": {},
   "outputs": [
    {
     "name": "stdout",
     "output_type": "stream",
     "text": [
      "{\"rajib\": 45, \"ranjan\": 2, \"rea\": 32}\n",
      "{'rajib': 45, 'ranjan': 2, 'rea': 32}\n"
     ]
    }
   ],
   "source": [
    "#Data serialization\n",
    "import json\n",
    "data={'rajib':45,\"ranjan\":2,'rea':32}\n",
    "json_str=json.dumps(data)\n",
    "print(json_str)\n",
    "parsed_data=json.loads(json_str)\n",
    "print(parsed_data)\n"
   ]
  },
  {
   "cell_type": "code",
   "execution_count": 26,
   "id": "dd71d1c3",
   "metadata": {},
   "outputs": [
    {
     "name": "stdout",
     "output_type": "stream",
     "text": [
      "['name', 'age']\n",
      "['rajib', '45']\n"
     ]
    }
   ],
   "source": [
    "import csv\n",
    "with open('example.csv',mode='w',newline='') as file:\n",
    "    writer=csv.writer(file)\n",
    "    writer.writerow(['name','age'])\n",
    "    writer.writerow(['rajib',45])\n",
    "  \n",
    "\n",
    "with open('example.csv',mode='r') as file:\n",
    "    reader=csv.reader(file)\n",
    "    for row in reader:\n",
    "        print(row)"
   ]
  },
  {
   "cell_type": "code",
   "execution_count": 27,
   "id": "28b0efd9",
   "metadata": {},
   "outputs": [
    {
     "name": "stdout",
     "output_type": "stream",
     "text": [
      "2025-07-10 22:49:44.555457\n",
      "2025-07-09 22:49:44.555457\n"
     ]
    }
   ],
   "source": [
    "#if i want current time\n",
    "from datetime import datetime,timedelta\n",
    "\n",
    "now=datetime.now()\n",
    "print(now)\n",
    "\n",
    "yesterday=now-timedelta(days=1)\n",
    "print(yesterday)"
   ]
  },
  {
   "cell_type": "code",
   "execution_count": 30,
   "id": "4358473a",
   "metadata": {},
   "outputs": [
    {
     "name": "stdout",
     "output_type": "stream",
     "text": [
      "1752168119.761331\n",
      "1752168121.762312\n"
     ]
    }
   ],
   "source": [
    "import time\n",
    "now=time.time()\n",
    "print(now)\n",
    "time.sleep(2.0)\n",
    "print(time.time())"
   ]
  }
 ],
 "metadata": {
  "kernelspec": {
   "display_name": "Python 3",
   "language": "python",
   "name": "python3"
  },
  "language_info": {
   "codemirror_mode": {
    "name": "ipython",
    "version": 3
   },
   "file_extension": ".py",
   "mimetype": "text/x-python",
   "name": "python",
   "nbconvert_exporter": "python",
   "pygments_lexer": "ipython3",
   "version": "3.12.0"
  }
 },
 "nbformat": 4,
 "nbformat_minor": 5
}
