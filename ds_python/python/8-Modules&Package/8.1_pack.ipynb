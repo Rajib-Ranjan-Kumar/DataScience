{
 "cells": [
  {
   "cell_type": "code",
   "execution_count": 1,
   "id": "b55ccd6b",
   "metadata": {},
   "outputs": [
    {
     "data": {
      "text/plain": [
       "6.708203932499369"
      ]
     },
     "execution_count": 1,
     "metadata": {},
     "output_type": "execute_result"
    }
   ],
   "source": [
    "#importing package\n",
    "import math\n",
    "math.sqrt(45)"
   ]
  },
  {
   "cell_type": "code",
   "execution_count": 2,
   "id": "b3149362",
   "metadata": {},
   "outputs": [
    {
     "data": {
      "text/plain": [
       "6.708203932499369"
      ]
     },
     "execution_count": 2,
     "metadata": {},
     "output_type": "execute_result"
    }
   ],
   "source": [
    "#importing package as alias\n",
    "import math as ma\n",
    "ma.sqrt(45)"
   ]
  },
  {
   "cell_type": "code",
   "execution_count": 3,
   "id": "c5ded32d",
   "metadata": {},
   "outputs": [
    {
     "data": {
      "text/plain": [
       "3.141592653589793"
      ]
     },
     "execution_count": 3,
     "metadata": {},
     "output_type": "execute_result"
    }
   ],
   "source": [
    "#importing single function from package\n",
    "from math import sqrt,pi\n",
    "sqrt(45)\n",
    "pi\n"
   ]
  },
  {
   "cell_type": "code",
   "execution_count": 4,
   "id": "faaddbbf",
   "metadata": {},
   "outputs": [
    {
     "name": "stdout",
     "output_type": "stream",
     "text": [
      "[ 1  2  2 34]\n"
     ]
    }
   ],
   "source": [
    "import numpy as np\n",
    "num=np.array([1,2,2,34])\n",
    "print(num)"
   ]
  },
  {
   "cell_type": "code",
   "execution_count": 5,
   "id": "a33639c7",
   "metadata": {},
   "outputs": [
    {
     "name": "stdout",
     "output_type": "stream",
     "text": [
      "6.708203932499369\n",
      "3.141592653589793\n"
     ]
    }
   ],
   "source": [
    "from math import *\n",
    "print(sqrt(45))\n",
    "print(pi)"
   ]
  },
  {
   "cell_type": "code",
   "execution_count": 8,
   "id": "09270007",
   "metadata": {},
   "outputs": [
    {
     "name": "stdout",
     "output_type": "stream",
     "text": [
      "9\n",
      "-1\n"
     ]
    }
   ],
   "source": [
    "#importing from user defined packages\n",
    "from package.maths import additon,substraction\n",
    "\n",
    "print(additon(5,4))\n",
    "print(substraction(4,5))\n"
   ]
  },
  {
   "cell_type": "code",
   "execution_count": 7,
   "id": "f079ddde",
   "metadata": {},
   "outputs": [
    {
     "name": "stdout",
     "output_type": "stream",
     "text": [
      "20\n"
     ]
    }
   ],
   "source": [
    "#importing subpackage functions\n",
    "from package.subpackage.mult import multiply\n",
    "print(multiply(4,5))"
   ]
  },
  {
   "cell_type": "code",
   "execution_count": null,
   "id": "d379cdab",
   "metadata": {},
   "outputs": [],
   "source": []
  }
 ],
 "metadata": {
  "kernelspec": {
   "display_name": "Python 3",
   "language": "python",
   "name": "python3"
  },
  "language_info": {
   "codemirror_mode": {
    "name": "ipython",
    "version": 3
   },
   "file_extension": ".py",
   "mimetype": "text/x-python",
   "name": "python",
   "nbconvert_exporter": "python",
   "pygments_lexer": "ipython3",
   "version": "3.12.0"
  }
 },
 "nbformat": 4,
 "nbformat_minor": 5
}
