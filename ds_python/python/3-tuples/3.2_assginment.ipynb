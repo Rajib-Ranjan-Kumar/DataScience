{
 "cells": [
  {
   "cell_type": "code",
   "execution_count": null,
   "id": "1ff40ac4",
   "metadata": {},
   "outputs": [],
   "source": [
    "# tuple3=(3,4,5,6,7,8,9,10)\n",
    "# print(tuple3[1])"
   ]
  },
  {
   "cell_type": "code",
   "execution_count": 17,
   "id": "2b12c5a6",
   "metadata": {},
   "outputs": [
    {
     "name": "stdout",
     "output_type": "stream",
     "text": [
      "(1, 2, 3, 4, 5, 6, 7, 8, 9, 10)\n"
     ]
    }
   ],
   "source": [
    "del tuple\n",
    "tuple2 = tuple(range(1, 11))\n",
    "print(tuple2)\n"
   ]
  },
  {
   "cell_type": "markdown",
   "id": "d0ca210e",
   "metadata": {},
   "source": [
    "# REmaing Already cover in the tuples section"
   ]
  }
 ],
 "metadata": {
  "kernelspec": {
   "display_name": "Python 3",
   "language": "python",
   "name": "python3"
  },
  "language_info": {
   "codemirror_mode": {
    "name": "ipython",
    "version": 3
   },
   "file_extension": ".py",
   "mimetype": "text/x-python",
   "name": "python",
   "nbconvert_exporter": "python",
   "pygments_lexer": "ipython3",
   "version": "3.12.0"
  }
 },
 "nbformat": 4,
 "nbformat_minor": 5
}
