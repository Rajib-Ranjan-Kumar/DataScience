{
 "cells": [
  {
   "cell_type": "markdown",
   "id": "50eaeb23",
   "metadata": {},
   "source": [
    "### Introduction of tuples\n",
    "* Tuples are immutable sequences in Python, meaning once created, their elements cannot be changed.\n",
    "* hey are defined using parentheses `()` instead of square brackets `[]` like lists."
   ]
  },
  {
   "cell_type": "code",
   "execution_count": 1,
   "id": "514a9c06",
   "metadata": {},
   "outputs": [
    {
     "name": "stdout",
     "output_type": "stream",
     "text": [
      "()\n",
      "(1,)\n"
     ]
    }
   ],
   "source": [
    "#creating a tuple and printing it\n",
    "empty_tuple = ()\n",
    "single_tuple =(1,)\n",
    "print(empty_tuple)\n",
    "print(single_tuple)\n"
   ]
  },
  {
   "cell_type": "code",
   "execution_count": 2,
   "id": "67e7a60b",
   "metadata": {},
   "outputs": [
    {
     "name": "stdout",
     "output_type": "stream",
     "text": [
      "<class 'list'>\n",
      "<class 'tuple'>\n"
     ]
    }
   ],
   "source": [
    "list = list()\n",
    "tuple = tuple()\n",
    "print(type(list))\n",
    "print(type(tuple))"
   ]
  },
  {
   "cell_type": "code",
   "execution_count": null,
   "id": "04eabaf9",
   "metadata": {},
   "outputs": [],
   "source": [
    "# Tuples Operations\n",
    "#concatenation,multliplication,methods,packing and unpacking,unpacking *,nested tuples"
   ]
  },
  {
   "cell_type": "code",
   "execution_count": 3,
   "id": "437d8ed8",
   "metadata": {},
   "outputs": [
    {
     "name": "stdout",
     "output_type": "stream",
     "text": [
      "Concatenated Tuple: (1, 2, 3, 4, 5, 6)\n",
      "Multiplied Tuple: (1, 2, 3, 1, 2, 3, 1, 2, 3)\n"
     ]
    }
   ],
   "source": [
    "# Tuples operations\n",
    "tuple1 = (1, 2, 3)\n",
    "tuple2 = (4, 5, 6)\n",
    "# Concatenation\n",
    "concatenated_tuple = tuple1 + tuple2\n",
    "print(\"Concatenated Tuple:\", concatenated_tuple)\n",
    "# Multiplication\n",
    "mul_tuple  = tuple1 * 3\n",
    "print(\"Multiplied Tuple:\", mul_tuple)"
   ]
  },
  {
   "cell_type": "code",
   "execution_count": 5,
   "id": "8fcc4101",
   "metadata": {},
   "outputs": [
    {
     "name": "stdout",
     "output_type": "stream",
     "text": [
      "3\n",
      "1\n"
     ]
    }
   ],
   "source": [
    "# Tuple methods\n",
    "print(mul_tuple.count(1))  # Count occurrences of 1 in tuple1\n",
    "print(tuple1.index(2))  # Find index of first occurrence of 2 in tuple"
   ]
  },
  {
   "cell_type": "code",
   "execution_count": 6,
   "id": "7c14f01b",
   "metadata": {},
   "outputs": [
    {
     "name": "stdout",
     "output_type": "stream",
     "text": [
      "(1, 2, 3)\n",
      "1 2 3\n"
     ]
    }
   ],
   "source": [
    "packed_tuple = 1,2,3\n",
    "\n",
    "print(packed_tuple)\n",
    "\n",
    "# Unpacking\n",
    "a,b,c = packed_tuple\n",
    "print(a, b, c)\n"
   ]
  },
  {
   "cell_type": "code",
   "execution_count": 7,
   "id": "327a5288",
   "metadata": {},
   "outputs": [
    {
     "name": "stdout",
     "output_type": "stream",
     "text": [
      "1 [2, 3, 1, 2, 3, 1, 2] 3\n"
     ]
    }
   ],
   "source": [
    "first,*middle,last = mul_tuple\n",
    "print(first, middle, last)"
   ]
  },
  {
   "cell_type": "code",
   "execution_count": 10,
   "id": "da60f7aa",
   "metadata": {},
   "outputs": [
    {
     "name": "stdout",
     "output_type": "stream",
     "text": [
      "(2, 4, 6, 8)\n",
      "12\n"
     ]
    }
   ],
   "source": [
    "nested_tuple = ((2,4,6,8),(3,6,9,12),(4,8,12,16))\n",
    "print(nested_tuple[0])\n",
    "print(nested_tuple[2][2])"
   ]
  },
  {
   "cell_type": "code",
   "execution_count": 11,
   "id": "6a688ecc",
   "metadata": {},
   "outputs": [
    {
     "name": "stdout",
     "output_type": "stream",
     "text": [
      "2\n",
      "4\n",
      "6\n",
      "8\n",
      "3\n",
      "6\n",
      "9\n",
      "12\n",
      "4\n",
      "8\n",
      "12\n",
      "16\n"
     ]
    }
   ],
   "source": [
    "for tuple in nested_tuple:\n",
    "    for element in tuple:\n",
    "        print(element)"
   ]
  }
 ],
 "metadata": {
  "kernelspec": {
   "display_name": "Python 3",
   "language": "python",
   "name": "python3"
  },
  "language_info": {
   "codemirror_mode": {
    "name": "ipython",
    "version": 3
   },
   "file_extension": ".py",
   "mimetype": "text/x-python",
   "name": "python",
   "nbconvert_exporter": "python",
   "pygments_lexer": "ipython3",
   "version": "3.12.0"
  }
 },
 "nbformat": 4,
 "nbformat_minor": 5
}
