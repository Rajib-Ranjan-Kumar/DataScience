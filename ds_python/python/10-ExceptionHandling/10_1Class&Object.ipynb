{
 "cells": [
  {
   "cell_type": "markdown",
   "id": "35eb2a8b",
   "metadata": {},
   "source": [
    "### OOP\n",
    "OOP is a programming paradgim that uses objects and classes to design program and computer applications.\n"
   ]
  },
  {
   "cell_type": "code",
   "execution_count": null,
   "id": "3e7eb2e5",
   "metadata": {
    "vscode": {
     "languageId": "plaintext"
    }
   },
   "outputs": [],
   "source": [
    "# Class is blue print of the object which have it's own attributes and methods"
   ]
  }
 ],
 "metadata": {
  "language_info": {
   "name": "python"
  }
 },
 "nbformat": 4,
 "nbformat_minor": 5
}
