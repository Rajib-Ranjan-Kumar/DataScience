{
 "cells": [
  {
   "cell_type": "code",
   "execution_count": 2,
   "id": "d7f6a212",
   "metadata": {},
   "outputs": [
    {
     "data": {
      "text/plain": [
       "2"
      ]
     },
     "execution_count": 2,
     "metadata": {},
     "output_type": "execute_result"
    }
   ],
   "source": [
    "1+1"
   ]
  },
  {
   "cell_type": "markdown",
   "id": "17fdf549",
   "metadata": {},
   "source": [
    "### TO CREATE ENVIROMENT USING TERMINAL COMMAND\n"
   ]
  },
  {
   "cell_type": "markdown",
   "id": "42c14bbc",
   "metadata": {},
   "source": [
    "python -m venv(which command) myenv(which folder)\n",
    "           "
   ]
  },
  {
   "cell_type": "markdown",
   "id": "be0845d5",
   "metadata": {},
   "source": [
    "To Activate the environment myenv\\scripts\\activate"
   ]
  },
  {
   "cell_type": "markdown",
   "id": "054f64a0",
   "metadata": {},
   "source": [
    "# Indentation\n",
    "#### INdentation in python is used to define the structure and hierarchy of the code"
   ]
  },
  {
   "cell_type": "code",
   "execution_count": 1,
   "id": "a814d608",
   "metadata": {},
   "outputs": [
    {
     "name": "stdout",
     "output_type": "stream",
     "text": [
      "32\n",
      "32\n"
     ]
    }
   ],
   "source": [
    "age=32 \n",
    "if age>30:\n",
    "    print(age)\n",
    "print(age)"
   ]
  },
  {
   "cell_type": "code",
   "execution_count": 3,
   "id": "09e2fd19",
   "metadata": {},
   "outputs": [
    {
     "name": "stdout",
     "output_type": "stream",
     "text": [
      "37\n"
     ]
    }
   ],
   "source": [
    "## Line Continuation\n",
    "total =1+2+3+4+5+\\\n",
    "6+7+9\n",
    "print(total)"
   ]
  },
  {
   "cell_type": "code",
   "execution_count": null,
   "id": "450ad4d5",
   "metadata": {},
   "outputs": [],
   "source": [
    "## multiple statement in signle line\n",
    "x=7;y=8;"
   ]
  },
  {
   "cell_type": "code",
   "execution_count": null,
   "id": "aa37783e",
   "metadata": {},
   "outputs": [
    {
     "data": {
      "text/plain": [
       "int"
      ]
     },
     "execution_count": 4,
     "metadata": {},
     "output_type": "execute_result"
    }
   ],
   "source": [
    "## \n",
    "type(age)\n"
   ]
  },
  {
   "cell_type": "markdown",
   "id": "c4870704",
   "metadata": {},
   "source": [
    "### Type Inference\n"
   ]
  },
  {
   "cell_type": "code",
   "execution_count": 5,
   "id": "596fcd21",
   "metadata": {},
   "outputs": [
    {
     "name": "stdout",
     "output_type": "stream",
     "text": [
      "<class 'int'>\n",
      "<class 'str'>\n"
     ]
    }
   ],
   "source": [
    "a=23\n",
    "print(type(a))\n",
    "a=\"rajib\"\n",
    "print(type(a))"
   ]
  }
 ],
 "metadata": {
  "kernelspec": {
   "display_name": "Python 3",
   "language": "python",
   "name": "python3"
  },
  "language_info": {
   "codemirror_mode": {
    "name": "ipython",
    "version": 3
   },
   "file_extension": ".py",
   "mimetype": "text/x-python",
   "name": "python",
   "nbconvert_exporter": "python",
   "pygments_lexer": "ipython3",
   "version": "3.12.0"
  }
 },
 "nbformat": 4,
 "nbformat_minor": 5
}
