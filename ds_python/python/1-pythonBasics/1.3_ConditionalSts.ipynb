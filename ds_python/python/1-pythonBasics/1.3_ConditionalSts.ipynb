{
 "cells": [
  {
   "cell_type": "code",
   "execution_count": 3,
   "id": "49a4de5d",
   "metadata": {},
   "outputs": [
    {
     "name": "stdout",
     "output_type": "stream",
     "text": [
      "33\n"
     ]
    }
   ],
   "source": [
    "##\n",
    "age=33\n",
    "if(age>=18):\n",
    "    print(age)"
   ]
  },
  {
   "cell_type": "code",
   "execution_count": 4,
   "id": "37130061",
   "metadata": {},
   "outputs": [
    {
     "name": "stdout",
     "output_type": "stream",
     "text": [
      "above 30\n"
     ]
    }
   ],
   "source": [
    "## elif\n",
    "\n",
    "if age>30:\n",
    "    print(\"above 30\")\n",
    "elif age<18:\n",
    "    print(\" teen\")\n",
    "elif age>60:\n",
    "    print(\"old age\")\n",
    "else:\n",
    "    print(\"adult\")"
   ]
  },
  {
   "cell_type": "markdown",
   "id": "238787c9",
   "metadata": {},
   "source": [
    "### Nested Loop \n",
    "##### practical example of leap year not"
   ]
  },
  {
   "cell_type": "code",
   "execution_count": 5,
   "id": "10785309",
   "metadata": {},
   "outputs": [
    {
     "name": "stdout",
     "output_type": "stream",
     "text": [
      "3000 is not leap year\n"
     ]
    }
   ],
   "source": [
    "year=3000\n",
    "if year%4==0:\n",
    "    if year%100==0:\n",
    "        if year%400==0:\n",
    "            print(year,\"is a leap year\")\n",
    "        else:\n",
    "            print(year,\"is not leap year\")\n",
    "    else:\n",
    "        print(year,\"is leap year\")\n",
    "else:\n",
    "    print(year,\"is a leap year\")"
   ]
  }
 ],
 "metadata": {
  "kernelspec": {
   "display_name": "Python 3",
   "language": "python",
   "name": "python3"
  },
  "language_info": {
   "codemirror_mode": {
    "name": "ipython",
    "version": 3
   },
   "file_extension": ".py",
   "mimetype": "text/x-python",
   "name": "python",
   "nbconvert_exporter": "python",
   "pygments_lexer": "ipython3",
   "version": "3.12.0"
  }
 },
 "nbformat": 4,
 "nbformat_minor": 5
}
