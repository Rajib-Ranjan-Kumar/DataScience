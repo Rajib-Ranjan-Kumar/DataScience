{
 "cells": [
  {
   "cell_type": "code",
   "execution_count": null,
   "id": "a058d2bd",
   "metadata": {},
   "outputs": [],
   "source": [
    "##Declaring variables and assigning variable\n",
    "age=32\n",
    "height=6.1\n",
    "name=\"krish\"\n",
    "is_student=True"
   ]
  },
  {
   "cell_type": "markdown",
   "id": "9e68e6fd",
   "metadata": {},
   "source": [
    "### Naming Convention"
   ]
  },
  {
   "cell_type": "code",
   "execution_count": null,
   "id": "22736543",
   "metadata": {},
   "outputs": [],
   "source": [
    "#variables names should be descriptive\n",
    "## they must start with a letter or an '_' and contains letter, numbers and underscores\n",
    "## variables names case sensitive"
   ]
  },
  {
   "cell_type": "markdown",
   "id": "99f752f3",
   "metadata": {},
   "source": [
    "### Type conversion"
   ]
  },
  {
   "cell_type": "code",
   "execution_count": 1,
   "id": "f7fe45ce",
   "metadata": {},
   "outputs": [
    {
     "data": {
      "text/plain": [
       "34"
      ]
     },
     "execution_count": 1,
     "metadata": {},
     "output_type": "execute_result"
    }
   ],
   "source": [
    "#python is dynamically type\n",
    "\n",
    "age='25'\n",
    "int(age)\n",
    "\n",
    "age=\"34\"\n",
    "int(age)\n"
   ]
  }
 ],
 "metadata": {
  "kernelspec": {
   "display_name": "Python 3",
   "language": "python",
   "name": "python3"
  },
  "language_info": {
   "codemirror_mode": {
    "name": "ipython",
    "version": 3
   },
   "file_extension": ".py",
   "mimetype": "text/x-python",
   "name": "python",
   "nbconvert_exporter": "python",
   "pygments_lexer": "ipython3",
   "version": "3.12.0"
  }
 },
 "nbformat": 4,
 "nbformat_minor": 5
}
