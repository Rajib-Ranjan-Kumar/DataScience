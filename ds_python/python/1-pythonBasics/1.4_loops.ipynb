{
 "cells": [
  {
   "cell_type": "code",
   "execution_count": null,
   "id": "1eac656c",
   "metadata": {},
   "outputs": [
    {
     "data": {
      "text/plain": [
       "range(0, 5)"
      ]
     },
     "execution_count": 2,
     "metadata": {},
     "output_type": "execute_result"
    }
   ],
   "source": [
    "range(5) #the last number is not included in the range\n"
   ]
  },
  {
   "cell_type": "code",
   "execution_count": 3,
   "id": "a9396c25",
   "metadata": {},
   "outputs": [
    {
     "name": "stdout",
     "output_type": "stream",
     "text": [
      "0\n",
      "1\n",
      "2\n",
      "3\n",
      "4\n"
     ]
    }
   ],
   "source": [
    "# for loop\n",
    "for i in range(5):\n",
    "    print(i)\n"
   ]
  },
  {
   "cell_type": "code",
   "execution_count": 4,
   "id": "17386ff2",
   "metadata": {},
   "outputs": [
    {
     "name": "stdout",
     "output_type": "stream",
     "text": [
      "1\n",
      "2\n",
      "3\n",
      "4\n",
      "5\n"
     ]
    }
   ],
   "source": [
    "# for loop\n",
    "for i in range(1,6):\n",
    "    print(i)\n"
   ]
  },
  {
   "cell_type": "code",
   "execution_count": 11,
   "id": "829859c4",
   "metadata": {},
   "outputs": [
    {
     "name": "stdout",
     "output_type": "stream",
     "text": [
      "10\n",
      "8\n",
      "6\n",
      "4\n",
      "2\n"
     ]
    }
   ],
   "source": [
    "# for loop\n",
    "for i in range(10,1,-2): #range(first,second,third) third is the step to be incremented\n",
    "        print(i) # by 2 incremented\n"
   ]
  },
  {
   "cell_type": "code",
   "execution_count": 12,
   "id": "1b44e457",
   "metadata": {},
   "outputs": [
    {
     "name": "stdout",
     "output_type": "stream",
     "text": [
      "R\n",
      "a\n",
      "j\n",
      "i\n",
      "b\n",
      " \n",
      "R\n",
      "a\n",
      "n\n",
      "j\n",
      "a\n",
      "n\n"
     ]
    }
   ],
   "source": [
    "## by using for loop we can traverse collection classes ie. string,set,lists..etc\n",
    "\n",
    "#for loop in string\n",
    "str=\"Rajib Ranjan\"\n",
    "for i in str:\n",
    "    print(i)"
   ]
  },
  {
   "cell_type": "markdown",
   "id": "6e2a889e",
   "metadata": {},
   "source": [
    "### While loop"
   ]
  },
  {
   "cell_type": "code",
   "execution_count": 18,
   "id": "90b79570",
   "metadata": {},
   "outputs": [
    {
     "name": "stdout",
     "output_type": "stream",
     "text": [
      "4\n",
      "3\n",
      "2\n"
     ]
    }
   ],
   "source": [
    "## while loop\n",
    "\n",
    "a=4\n",
    "while a>1:\n",
    "    print(a)\n",
    "    a-=1"
   ]
  },
  {
   "cell_type": "code",
   "execution_count": null,
   "id": "1349bc9c",
   "metadata": {},
   "outputs": [],
   "source": []
  },
  {
   "cell_type": "markdown",
   "id": "ab7208a7",
   "metadata": {},
   "source": [
    "### Loop Control statement\n",
    "##### break \n",
    "###### the break statement exits permanently\n",
    "##### continue \n",
    "###### it skip the current remaining step in loop and execute from next step\n",
    "##### pass\n",
    "###### The pass statement is  a null operation :it does nothing.\n"
   ]
  },
  {
   "cell_type": "code",
   "execution_count": 19,
   "id": "41b5ce2b",
   "metadata": {},
   "outputs": [
    {
     "name": "stdout",
     "output_type": "stream",
     "text": [
      "1\n",
      "2\n",
      "3\n",
      "4\n",
      "5\n",
      "6\n",
      "7\n",
      "8\n",
      "9\n",
      "10\n"
     ]
    }
   ],
   "source": [
    "for i in range(1,11):\n",
    "    if i==5:\n",
    "        pass \n",
    "    print(i)"
   ]
  },
  {
   "cell_type": "code",
   "execution_count": null,
   "id": "1ae887ea",
   "metadata": {},
   "outputs": [],
   "source": [
    "# Nested loops\n",
    " #loop inside a loop is called nested loop\n",
    "for i in range(1,4):\n",
    "    for j in range(1,4):\n",
    "        print(\"{i},{j}\")"
   ]
  }
 ],
 "metadata": {
  "kernelspec": {
   "display_name": "Python 3",
   "language": "python",
   "name": "python3"
  },
  "language_info": {
   "codemirror_mode": {
    "name": "ipython",
    "version": 3
   },
   "file_extension": ".py",
   "mimetype": "text/x-python",
   "name": "python",
   "nbconvert_exporter": "python",
   "pygments_lexer": "ipython3",
   "version": "3.12.0"
  }
 },
 "nbformat": 4,
 "nbformat_minor": 5
}
