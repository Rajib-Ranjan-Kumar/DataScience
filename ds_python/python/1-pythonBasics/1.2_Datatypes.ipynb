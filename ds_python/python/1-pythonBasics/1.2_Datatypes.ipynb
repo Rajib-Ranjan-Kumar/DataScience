{
 "cells": [
  {
   "cell_type": "markdown",
   "id": "9e9811f9",
   "metadata": {},
   "source": [
    "### Datatypes\n"
   ]
  },
  {
   "cell_type": "code",
   "execution_count": null,
   "id": "314b63a5",
   "metadata": {},
   "outputs": [],
   "source": [
    "result = \"Hello\" + 5\n",
    "#gives error"
   ]
  },
  {
   "cell_type": "code",
   "execution_count": 1,
   "id": "06265943",
   "metadata": {},
   "outputs": [
    {
     "name": "stdout",
     "output_type": "stream",
     "text": [
      "hello5\n"
     ]
    }
   ],
   "source": [
    "result = \"hello\" + str(5)\n",
    "print(result)"
   ]
  }
 ],
 "metadata": {
  "kernelspec": {
   "display_name": "Python 3",
   "language": "python",
   "name": "python3"
  },
  "language_info": {
   "codemirror_mode": {
    "name": "ipython",
    "version": 3
   },
   "file_extension": ".py",
   "mimetype": "text/x-python",
   "name": "python",
   "nbconvert_exporter": "python",
   "pygments_lexer": "ipython3",
   "version": "3.12.0"
  }
 },
 "nbformat": 4,
 "nbformat_minor": 5
}
