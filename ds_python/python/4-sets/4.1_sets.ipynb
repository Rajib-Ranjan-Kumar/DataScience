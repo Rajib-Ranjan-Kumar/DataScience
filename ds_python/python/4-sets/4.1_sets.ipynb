{
 "cells": [
  {
   "cell_type": "markdown",
   "id": "3db4552e",
   "metadata": {},
   "source": [
    "# Set\n",
    "* sets are unordered collections of unique elements  \n",
    "* they are mutable, meaning you can add or remove elements\n",
    "* you can create a set using curly braces or the set() function\n",
    "* example of creating a set"
   ]
  },
  {
   "cell_type": "code",
   "execution_count": 6,
   "id": "374e5eda",
   "metadata": {},
   "outputs": [
    {
     "name": "stdout",
     "output_type": "stream",
     "text": [
      "{1, 2, 3, 4, 5, 6, 7, 8, 9, 10}\n"
     ]
    }
   ],
   "source": [
    "\n",
    "rajib=set([1, 2, 3, 4, 5, 6, 7, 8, 9, 10])\n",
    "print(rajib)"
   ]
  },
  {
   "cell_type": "code",
   "execution_count": 9,
   "id": "c28c6cdb",
   "metadata": {},
   "outputs": [
    {
     "name": "stdout",
     "output_type": "stream",
     "text": [
      "{1, 2, 3, 4, 5, 6, 7, 8, 9, 10, 11}\n",
      "{1, 2, 3, 4, 5, 6, 7, 8, 9, 10}\n"
     ]
    }
   ],
   "source": [
    "#aading an element to a set\n",
    "rajib.add(11)\n",
    "print(rajib)\n",
    "\n",
    "#removing an element from a set\n",
    "rajib.remove(11)    \n",
    "#rajib.remove(11) # This will raise a KeyError if the element is not found\n",
    "rajib.discard(11)  # This will not raise an error if the element is not found    \n",
    "print(rajib)"
   ]
  },
  {
   "cell_type": "code",
   "execution_count": 10,
   "id": "d8d04bb3",
   "metadata": {},
   "outputs": [
    {
     "name": "stdout",
     "output_type": "stream",
     "text": [
      "Popped element: 1\n",
      "set()\n"
     ]
    }
   ],
   "source": [
    "#popping an element from a set\n",
    "popped_element = rajib.pop()  # This will remove and return an arbitrary element\n",
    "print(f\"Popped element: {popped_element}\")  \n",
    "#clearing a set\n",
    "rajib.clear()  # This will remove all elements from the set     \n",
    "print(rajib)  # Should print an empty set"
   ]
  },
  {
   "cell_type": "markdown",
   "id": "61450491",
   "metadata": {},
   "source": [
    "#set membership testing,mathematical operations{Union,intersection,difference,intersection_update\n",
    "#symmetric_difference_update}\n",
    "#symmetric difference is the set of elements that are in either of the sets but not in both\n",
    "\n",
    "#sets methods{isdisjoint,issubset,issuperset}"
   ]
  },
  {
   "cell_type": "code",
   "execution_count": 11,
   "id": "176c0fb7",
   "metadata": {},
   "outputs": [
    {
     "name": "stdout",
     "output_type": "stream",
     "text": [
      "True\n",
      "False\n"
     ]
    }
   ],
   "source": [
    "# set membership testing\n",
    "set1 = {1,2,3,4,5,6,7,8}\n",
    "set2 = {2,4,6,8,0}\n",
    "print(1 in set1)\n",
    "print(5 in set2)"
   ]
  },
  {
   "cell_type": "code",
   "execution_count": null,
   "id": "77bc8ddb",
   "metadata": {},
   "outputs": [
    {
     "name": "stdout",
     "output_type": "stream",
     "text": [
      "{0, 2, 4, 6, 8}\n",
      "set()\n",
      "{8, 2, 4, 6}\n",
      "{0}\n",
      "{8, 2, 4, 6}\n"
     ]
    }
   ],
   "source": [
    "#Mathematical operation\n",
    "set_union=set1.union(set2)\n",
    "set_difference=set1.difference(set2)\n",
    "set_intersection=set1.intersection(set2)\n",
    "set1.intersection_update(set2)\n",
    "print(set_union)\n",
    "print(set_difference)\n",
    "print(set_intersection)\n",
    "sss=set2.symmetric_difference(set1)\n",
    "print(sss)\n",
    "print(set1)\n",
    "\n"
   ]
  },
  {
   "cell_type": "code",
   "execution_count": 18,
   "id": "acb4b073",
   "metadata": {},
   "outputs": [
    {
     "name": "stdout",
     "output_type": "stream",
     "text": [
      "False\n",
      "True\n",
      "True\n"
     ]
    }
   ],
   "source": [
    "#set Method\n",
    "set1={1,2,3,4,5,6}\n",
    "set2={2,4,6}\n",
    "print(set1.issubset(set2))\n",
    "print(set1.issuperset(set2))\n",
    "print(set2.issubset(set1))"
   ]
  },
  {
   "cell_type": "code",
   "execution_count": null,
   "id": "7259f15b",
   "metadata": {},
   "outputs": [],
   "source": []
  },
  {
   "cell_type": "code",
   "execution_count": null,
   "id": "aa18418b",
   "metadata": {},
   "outputs": [],
   "source": []
  }
 ],
 "metadata": {
  "kernelspec": {
   "display_name": "Python 3",
   "language": "python",
   "name": "python3"
  },
  "language_info": {
   "codemirror_mode": {
    "name": "ipython",
    "version": 3
   },
   "file_extension": ".py",
   "mimetype": "text/x-python",
   "name": "python",
   "nbconvert_exporter": "python",
   "pygments_lexer": "ipython3",
   "version": "3.12.0"
  }
 },
 "nbformat": 4,
 "nbformat_minor": 5
}
