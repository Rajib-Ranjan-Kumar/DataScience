{
 "cells": [
  {
   "cell_type": "markdown",
   "id": "acf81597",
   "metadata": {},
   "source": [
    "### create a set containing tuples ,where each tuple contains two elements"
   ]
  },
  {
   "cell_type": "code",
   "execution_count": 1,
   "id": "34b53913",
   "metadata": {},
   "outputs": [
    {
     "name": "stdout",
     "output_type": "stream",
     "text": [
      "{(2, 4), (1, 2), (4, 8), (3, 6)}\n"
     ]
    }
   ],
   "source": [
    "t1=(1,2)\n",
    "t2=(2,4)\n",
    "t3=(3,6)\n",
    "t4=(4,8)\n",
    "set1={t1,t2,t3,t4}\n",
    "print(set1)"
   ]
  },
  {
   "cell_type": "markdown",
   "id": "6a7f8b2a",
   "metadata": {},
   "source": [
    "### Test the membership of a tuple in the set"
   ]
  },
  {
   "cell_type": "code",
   "execution_count": 4,
   "id": "4f07487c",
   "metadata": {},
   "outputs": [
    {
     "name": "stdout",
     "output_type": "stream",
     "text": [
      "True\n"
     ]
    }
   ],
   "source": [
    "words=\"My name is Rajib Ranjan.I live in Bhubaneshwar.\"\n",
    "t1=words.split()\n",
    "set2=set(t1)\n",
    "print(\"Rajib\" in set2)"
   ]
  },
  {
   "cell_type": "code",
   "execution_count": 10,
   "id": "641558c5",
   "metadata": {},
   "outputs": [
    {
     "name": "stdout",
     "output_type": "stream",
     "text": [
      "before: {1, 2, 3, 4, 5, 6, 7}\n",
      "after update of symmetric difference : {1, 3, 5, 7}\n"
     ]
    }
   ],
   "source": [
    "#Symmetric difference update\n",
    "set1 = {1, 2, 3, 4, 5, 6, 7}\n",
    "set2 = {2, 4, 6}\n",
    "print(\"before:\", set1)\n",
    "set1.symmetric_difference_update(set2)\n",
    "print(\"after update of symmetric difference :\", set1)"
   ]
  },
  {
   "cell_type": "code",
   "execution_count": 14,
   "id": "189caafd",
   "metadata": {},
   "outputs": [
    {
     "name": "stdout",
     "output_type": "stream",
     "text": [
      "None\n"
     ]
    }
   ],
   "source": [
    "# creating dictionary using sets as keys\n",
    "dic = {frozenset([1, 2, 4, 5]): 5, frozenset([2, 4, 6]): 6, frozenset([3, 4, 5]): 8}\n",
    "print(dic.get(frozenset([1, 2, 3, 4, 5])))"
   ]
  }
 ],
 "metadata": {
  "kernelspec": {
   "display_name": "Python 3",
   "language": "python",
   "name": "python3"
  },
  "language_info": {
   "codemirror_mode": {
    "name": "ipython",
    "version": 3
   },
   "file_extension": ".py",
   "mimetype": "text/x-python",
   "name": "python",
   "nbconvert_exporter": "python",
   "pygments_lexer": "ipython3",
   "version": "3.12.0"
  }
 },
 "nbformat": 4,
 "nbformat_minor": 5
}
