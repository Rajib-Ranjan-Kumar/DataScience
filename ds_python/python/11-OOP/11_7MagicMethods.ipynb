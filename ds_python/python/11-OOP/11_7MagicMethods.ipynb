{
 "cells": [
  {
   "cell_type": "code",
   "execution_count": null,
   "id": "12b9412b",
   "metadata": {},
   "outputs": [
    {
     "name": "stdout",
     "output_type": "stream",
     "text": [
      "Name:rajib,Age:45\n"
     ]
    }
   ],
   "source": [
    "#Basic Magic Methods\n",
    "\n",
    "class Person:\n",
    "    def __init__(self,name,age):\n",
    "        self.name=name\n",
    "        self.age=age\n",
    "        \n",
    "    def __str__(self):\n",
    "        return f\"Name:{self.name},Age:{self.age}\"\n",
    "\n",
    "person1=Person(\"rajib\",45)\n",
    "print(str(person1))\n",
    "\n",
    "\n",
    "    "
   ]
  },
  {
   "cell_type": "code",
   "execution_count": null,
   "id": "5d5d4639",
   "metadata": {},
   "outputs": [
    {
     "name": "stdout",
     "output_type": "stream",
     "text": [
      "Vector(8,8)\n"
     ]
    }
   ],
   "source": [
    "#Operator overloading\n",
    "class Vector:\n",
    "    def __init__(self,x,y):\n",
    "        self.x=x\n",
    "        self.y=y\n",
    "    \n",
    "    def __add__(self,other):\n",
    "        return Vector(self.x+other.x,self.y+other.y)\n",
    "    \n",
    "    def __sub__(self,other):\n",
    "        return Vector(self.x-other.x,self.y-other.y)\n",
    "    \n",
    "    def __mul__(self,other):\n",
    "        return Vector(self.x*other.x,self.y*other.y)\n",
    "\n",
    "    def __truediv__(self,other):\n",
    "        return Vector(self.x/other.x,self.y/other.y)\n",
    "    def __repr__(self):\n",
    "        return f\"Vector({self.x},{self.y})\"\n",
    "    \n",
    "v1=Vector(3,4)\n",
    "v2=Vector(5,4)\n",
    "print(v1+v2)\n"
   ]
  },
  {
   "cell_type": "code",
   "execution_count": 17,
   "id": "0c06a185",
   "metadata": {},
   "outputs": [
    {
     "name": "stdout",
     "output_type": "stream",
     "text": [
      "(6,8i)\n",
      "(-2,0i)\n",
      "(-8,24i)\n"
     ]
    }
   ],
   "source": [
    "# Operator Overloading another example\n",
    "class ComplexNumber:\n",
    "    def __init__(self,real,imag):\n",
    "        self.real=real\n",
    "        self.imag=imag\n",
    "    \n",
    "    def __add__(self,other):\n",
    "        return ComplexNumber(self.real+other.real,self.imag+other.imag)\n",
    "\n",
    "    def __sub__(self,other):\n",
    "        return ComplexNumber(self.real-other.real,self.imag-other.imag)\n",
    "\n",
    "    def __mul__(self,other):\n",
    "        return ComplexNumber(self.real*other.real-self.imag*other.imag,self.imag*other.real+other.imag*self.real)\n",
    "    \n",
    "    def __repr__(self):\n",
    "        return f\"({self.real},{self.imag}i)\"\n",
    "\n",
    "c1=ComplexNumber(2,4)\n",
    "c2=ComplexNumber(4,4)\n",
    "print(c1+c2)\n",
    "print(c1-c2)\n",
    "print(c1*c2)\n",
    "\n"
   ]
  }
 ],
 "metadata": {
  "kernelspec": {
   "display_name": "Python 3",
   "language": "python",
   "name": "python3"
  },
  "language_info": {
   "codemirror_mode": {
    "name": "ipython",
    "version": 3
   },
   "file_extension": ".py",
   "mimetype": "text/x-python",
   "name": "python",
   "nbconvert_exporter": "python",
   "pygments_lexer": "ipython3",
   "version": "3.12.0"
  }
 },
 "nbformat": 4,
 "nbformat_minor": 5
}
