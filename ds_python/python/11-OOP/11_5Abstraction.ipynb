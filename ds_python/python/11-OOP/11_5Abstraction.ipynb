{
 "cells": [
  {
   "cell_type": "markdown",
   "id": "856ec823",
   "metadata": {},
   "source": [
    "🧊 Abstraction – Introduction in Python (and OOP)\n",
    "✅ What is Abstraction?\n",
    "Abstraction is one of the core concepts of Object-Oriented Programming (OOP), along with Encapsulation, Inheritance, and Polymorphism.\n",
    "\n",
    "Abstraction means hiding the complex internal details and showing only the essential features to the user.\n",
    "\n",
    "🧠 In Simple Words:\n",
    "Abstraction = \"What\" to do, not \"How\" to do it.\n",
    "\n",
    "You don’t need to know how something works internally, just how to use it.\n",
    "\n",
    "✅ Real-Life Example:\n",
    "When you drive a car:\n",
    "\n",
    "You use the steering, brake, and accelerator (public interface).\n",
    "\n",
    "You don’t care how the engine, brake fluid, or transmission works internally.\n",
    "\n",
    "That’s abstraction.\n",
    "\n",
    "🔧 In Python — How to Use Abstraction?\n",
    "Python provides abstraction using:\n",
    "\n",
    "Abstract Base Classes (ABC)\n",
    "\n",
    "The abc module and the @abstractmethod decorator\n",
    "\n",
    "## Credit: ChatGPT\n"
   ]
  },
  {
   "cell_type": "code",
   "execution_count": null,
   "id": "94becc59",
   "metadata": {},
   "outputs": [],
   "source": [
    "from abc import ABC, abstractmethod\n",
    "\n",
    "class Animal(ABC):\n",
    "    @abstractmethod\n",
    "    def sound(self):\n",
    "        pass \n",
    "\n",
    "class Dog(Animal):\n",
    "    def sound(self):\n",
    "        return \"Woof\"\n",
    "\n",
    "class Cat(Animal):\n",
    "    def sound(self):\n",
    "        return \"Meow\"\n",
    "\n",
    "# dog = Animal()        # Error: Can't instantiate abstract class\n",
    "dog = Dog()\n",
    "print(dog.sound())      # ✅ Output: Woof\n"
   ]
  }
 ],
 "metadata": {
  "kernelspec": {
   "display_name": "Python 3",
   "language": "python",
   "name": "python3"
  },
  "language_info": {
   "codemirror_mode": {
    "name": "ipython",
    "version": 3
   },
   "file_extension": ".py",
   "mimetype": "text/x-python",
   "name": "python",
   "nbconvert_exporter": "python",
   "pygments_lexer": "ipython3",
   "version": "3.12.0"
  }
 },
 "nbformat": 4,
 "nbformat_minor": 5
}
