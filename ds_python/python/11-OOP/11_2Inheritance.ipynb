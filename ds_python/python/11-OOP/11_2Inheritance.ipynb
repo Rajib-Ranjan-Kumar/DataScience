{
 "cells": [
  {
   "cell_type": "code",
   "execution_count": null,
   "id": "cf58dcb7",
   "metadata": {},
   "outputs": [
    {
     "name": "stdout",
     "output_type": "stream",
     "text": [
      "you are driving electric engine car\n",
      "Is auto driving?:True\n"
     ]
    }
   ],
   "source": [
    "# single inheritance\n",
    "class Car:\n",
    "    def __init__(self,windows,engine):\n",
    "        self.windows=windows\n",
    "        self.engine=engine\n",
    "\n",
    "    def drive(self):\n",
    "        print(f\"you are driving {self.engine} engine car\")\n",
    "\n",
    "class Tesla(Car):\n",
    "    def __init__(self,is_driving, windows, engine):\n",
    "        super().__init__(windows, engine)\n",
    "        self.is_driving=is_driving\n",
    "\n",
    "    def autodrive(self):\n",
    "        print(f\"Is auto driving?:{self.is_driving}\")\n",
    "\n",
    "\n",
    "car=Tesla(True,4,'electric')\n",
    "car.drive()\n",
    "car.autodrive()\n",
    "\n",
    "        "
   ]
  },
  {
   "cell_type": "code",
   "execution_count": 8,
   "id": "7d73ab6a",
   "metadata": {},
   "outputs": [
    {
     "name": "stdout",
     "output_type": "stream",
     "text": [
      "aaditya say woof\n"
     ]
    }
   ],
   "source": [
    "#multiple inheritance\n",
    "class Animal:\n",
    "    def __init__(self,name):\n",
    "        self.name=name\n",
    "    def speak(self):\n",
    "        print(f\"Animal classs\")\n",
    "\n",
    "class Pet:\n",
    "    def __init__(self,owner):\n",
    "        self.owner=owner\n",
    "\n",
    "\n",
    "class Dog(Animal,Pet):\n",
    "    def __init__(self,name,owner):\n",
    "        Animal.__init__(self,name)\n",
    "        Pet.__init__(self,owner)\n",
    "\n",
    "    def speak(self):\n",
    "        return f\"{self.name} say woof\"\n",
    "\n",
    "dog=Dog('aaditya','r')\n",
    "print(dog.speak())\n",
    "\n"
   ]
  }
 ],
 "metadata": {
  "kernelspec": {
   "display_name": "Python 3",
   "language": "python",
   "name": "python3"
  },
  "language_info": {
   "codemirror_mode": {
    "name": "ipython",
    "version": 3
   },
   "file_extension": ".py",
   "mimetype": "text/x-python",
   "name": "python",
   "nbconvert_exporter": "python",
   "pygments_lexer": "ipython3",
   "version": "3.12.0"
  }
 },
 "nbformat": 4,
 "nbformat_minor": 5
}
