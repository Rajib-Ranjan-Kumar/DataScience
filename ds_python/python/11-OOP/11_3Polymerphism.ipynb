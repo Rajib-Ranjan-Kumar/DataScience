{
 "cells": [
  {
   "cell_type": "code",
   "execution_count": 7,
   "id": "19ba7d18",
   "metadata": {},
   "outputs": [
    {
     "name": "stdout",
     "output_type": "stream",
     "text": [
      "12\n",
      "36.2984\n"
     ]
    }
   ],
   "source": [
    "# method overriding \n",
    "class Shape:\n",
    "    def area(self):\n",
    "        return \"area of the shape\"\n",
    "class Rectangle(Shape):\n",
    "    def __init__(self,height,breath):\n",
    "        self.height=height\n",
    "        self.breath=breath\n",
    "        \n",
    "    def area(self):\n",
    "        return self.height*self.breath\n",
    "    \n",
    "class Circle(Shape):\n",
    "    def __init__(self,radius):\n",
    "        self.radius=radius\n",
    "        \n",
    "    def area(self):\n",
    "        return 3.14*self.radius*self.radius\n",
    "    \n",
    "\n",
    "\n",
    "def imp(Shape):\n",
    "    print(Shape.area())\n",
    "\n",
    "rectangle=Rectangle(3,4)\n",
    "circle=Circle(3.4)\n",
    "\n",
    "imp(rectangle)\n",
    "imp(circle)"
   ]
  },
  {
   "cell_type": "code",
   "execution_count": 9,
   "id": "c78597cb",
   "metadata": {},
   "outputs": [
    {
     "name": "stdout",
     "output_type": "stream",
     "text": [
      "This is car\n",
      "this is motorcycle\n"
     ]
    }
   ],
   "source": [
    "#polymerphism with abstract base classes \n",
    "#it define as common methods for group of related objects and it enforced that derived classes\n",
    "#  implement it\n",
    "\n",
    "from abc import ABC,abstractmethod\n",
    "class Vehicle(ABC):\n",
    "    @abstractmethod\n",
    "    def drive(self):\n",
    "        pass\n",
    "\n",
    "class MotorCycle(Vehicle):\n",
    "    def drive(self):\n",
    "        print(\"this is motorcycle\")\n",
    "\n",
    "class Car(Vehicle):\n",
    "    def drive(self):\n",
    "        print(\"This is car\")\n",
    "\n",
    "\n",
    "car=Car()\n",
    "motor=MotorCycle()\n",
    "\n",
    "\n",
    "\n",
    "def Imp(Vehicle):\n",
    "    Vehicle.drive()\n",
    "\n",
    "Imp(car)\n",
    "Imp(motor)"
   ]
  }
 ],
 "metadata": {
  "kernelspec": {
   "display_name": "Python 3",
   "language": "python",
   "name": "python3"
  },
  "language_info": {
   "codemirror_mode": {
    "name": "ipython",
    "version": 3
   },
   "file_extension": ".py",
   "mimetype": "text/x-python",
   "name": "python",
   "nbconvert_exporter": "python",
   "pygments_lexer": "ipython3",
   "version": "3.12.0"
  }
 },
 "nbformat": 4,
 "nbformat_minor": 5
}
