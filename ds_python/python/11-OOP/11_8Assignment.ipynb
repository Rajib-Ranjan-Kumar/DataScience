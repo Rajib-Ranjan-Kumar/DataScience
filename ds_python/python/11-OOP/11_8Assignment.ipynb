{
 "cells": [
  {
   "cell_type": "code",
   "execution_count": 1,
   "id": "5c257e7d",
   "metadata": {},
   "outputs": [
    {
     "name": "stdout",
     "output_type": "stream",
     "text": [
      "34.1946\n",
      "12\n"
     ]
    }
   ],
   "source": [
    "# ### Assignment 1: Polymorphism with Methods\n",
    "\n",
    "# Create a base class named `Shape` with a method `area`. Create two derived classes `Circle`\n",
    "#  and `Square` that override the `area` method. Create a list of `Shape` objects and call the \n",
    "# `area` method on each object to demonstrate polymorphism.\n",
    "\n",
    "class Shape:\n",
    "    def area(self):\n",
    "        return \"area of triangle\"\n",
    "\n",
    "class Circle(Shape):\n",
    "    def __init__(self,radius):\n",
    "        self.radius=radius\n",
    "    def area(self):\n",
    "        return 3.14*self.radius*self.radius\n",
    "\n",
    "class Rectangle(Shape):\n",
    "    def __init__(self,height,width):\n",
    "        self.height=height\n",
    "        self.width=width\n",
    "    def area(self):\n",
    "        return self.height*self.width\n",
    "\n",
    "c=Circle(3.3)\n",
    "r=Rectangle(3,4)\n",
    "\n",
    "lis=[c,r]\n",
    "\n",
    "for i in lis:\n",
    "    print(i.area())\n",
    "    \n",
    "        \n",
    "        "
   ]
  },
  {
   "cell_type": "code",
   "execution_count": 3,
   "id": "c1e64541",
   "metadata": {},
   "outputs": [
    {
     "name": "stdout",
     "output_type": "stream",
     "text": [
      "34.1946\n",
      "12\n"
     ]
    }
   ],
   "source": [
    "# ### Assignment 2: Polymorphism with Function Arguments\n",
    "\n",
    "# Create a function named `describe_shape` that takes a `Shape` object as an argument and\n",
    "#  calls its `area` method. Create objects of `Circle` and `Square` classes and pass them\n",
    "#  to the `describe_shape` function.\n",
    "\n",
    "def describe_shape(Shape):\n",
    "    return Shape.area()\n",
    "\n",
    "print(describe_shape(c))\n",
    "print(describe_shape(r))\n"
   ]
  },
  {
   "cell_type": "code",
   "execution_count": null,
   "id": "69b04879",
   "metadata": {},
   "outputs": [
    {
     "name": "stdout",
     "output_type": "stream",
     "text": [
      "start bike Bullet engine\n",
      "start car Bmw engine\n"
     ]
    }
   ],
   "source": [
    "from abc import ABC, abstractmethod\n",
    "\n",
    "class Vehicle(ABC):\n",
    "    @abstractmethod\n",
    "    def fuel_type(self):\n",
    "        pass\n",
    "\n",
    "class Car(Vehicle):\n",
    "    def __init__(self, name, fuel_ty):\n",
    "        self.name = name\n",
    "        self.fuel_ty = fuel_ty  # Changed from self.fuel_type\n",
    "    \n",
    "    def fuel_type(self):\n",
    "        return f\"{self.name} runs on {self.fuel_ty}\"\n",
    "\n",
    "class Bike(Vehicle):\n",
    "    def __init__(self, name, fuel_ty):\n",
    "        self.name = name\n",
    "        self.fuel_ty = fuel_ty  # Changed from self.fuel_type\n",
    "    \n",
    "    def fuel_type(self):\n",
    "        return f\"{self.name} runs on {self.fuel_ty}\"\n",
    "\n",
    "# Test\n",
    "B = Bike(\"Bullet\", \"Petrol\")\n",
    "C = Car(\"BMW\", \"Diesel\")\n",
    "\n",
    "print(B.fuel_type())\n",
    "print(C.fuel_type())\n"
   ]
  },
  {
   "cell_type": "code",
   "execution_count": 20,
   "id": "6feab1ad",
   "metadata": {},
   "outputs": [
    {
     "name": "stdout",
     "output_type": "stream",
     "text": [
      "balance insufficient\n",
      "1000 is deposited 23053748\n",
      "6000 is withdraw from ac no. 23053748\n"
     ]
    }
   ],
   "source": [
    "# ### Assignment 5: Encapsulation with Private Attributes\n",
    "\n",
    "# Create a class named `BankAccount` with private attributes `account_number` and `balance`.\n",
    "#  Add methods to deposit and withdraw money, and to check the balance. Ensure that the balance\n",
    "#  cannot be accessed directly.\n",
    "class BankAccount:\n",
    "    def __init__(self,account_number,balance=0):\n",
    "        self.__account_number=account_number\n",
    "        self.__balance=balance\n",
    "    def deposit(self,amount):\n",
    "        self.__balance+=amount\n",
    "        return f\"{amount} is deposited {self.__account_number}\"\n",
    "    \n",
    "    def withdraw(self,amount):\n",
    "        if(amount<=self.__balance):\n",
    "            self.__balance-=amount\n",
    "            return f\"{amount} is withdraw from ac no. {self.__account_number}\"\n",
    "        else:\n",
    "            return f\"balance insufficient\"\n",
    "        \n",
    "b=BankAccount(23053748,5000)\n",
    "print(b.withdraw(6000))\n",
    "print(b.deposit(1000))\n",
    "print(b.withdraw(6000))\n",
    "\n",
    "    \n",
    "        "
   ]
  },
  {
   "cell_type": "code",
   "execution_count": null,
   "id": "0134aad1",
   "metadata": {},
   "outputs": [],
   "source": []
  }
 ],
 "metadata": {
  "kernelspec": {
   "display_name": "Python 3",
   "language": "python",
   "name": "python3"
  },
  "language_info": {
   "codemirror_mode": {
    "name": "ipython",
    "version": 3
   },
   "file_extension": ".py",
   "mimetype": "text/x-python",
   "name": "python",
   "nbconvert_exporter": "python",
   "pygments_lexer": "ipython3",
   "version": "3.12.0"
  }
 },
 "nbformat": 4,
 "nbformat_minor": 5
}
