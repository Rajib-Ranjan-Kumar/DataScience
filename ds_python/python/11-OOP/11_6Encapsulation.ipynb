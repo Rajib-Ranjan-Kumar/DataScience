{
 "cells": [
  {
   "cell_type": "markdown",
   "id": "3fe0e664",
   "metadata": {},
   "source": [
    "✅ What is Encapsulation?\n",
    "Encapsulation is one of the four fundamental principles of Object-Oriented Programming (OOP), alongside Inheritance, Polymorphism, and Abstraction.\n",
    "\n",
    "It means wrapping data (variables) and methods (functions) that operate on that data into a single unit — a class — and restricting direct access to some of the object’s components.\n",
    "\n",
    "🧠 In Simple Words:\n",
    "Encapsulation = Data Protection\n",
    "You hide internal details of an object and only expose what’s necessary.\n",
    "\n",
    "Credit: ChatGPT\n"
   ]
  },
  {
   "cell_type": "code",
   "execution_count": 5,
   "id": "94122c89",
   "metadata": {},
   "outputs": [
    {
     "name": "stdout",
     "output_type": "stream",
     "text": [
      "Raj\n",
      "RAjib\n"
     ]
    }
   ],
   "source": [
    "# public variable\n",
    "class Person:\n",
    "    def __init__(self,name,age):\n",
    "        self.name=name  #public variable\n",
    "        self.age=age    #public variable\n",
    "\n",
    "class Employee(Person):\n",
    "    def __init__(self, name, age):\n",
    "        super().__init__(name, age)\n",
    "\n",
    "e=Employee(\"RAjib\",21)\n",
    "p=Person(\"Raj\",4)\n",
    "print(p.name)#name is easily acessible in outside the class\n",
    "print(e.name)#name is easily acessible in derived class\n"
   ]
  },
  {
   "cell_type": "code",
   "execution_count": 12,
   "id": "36e89a2c",
   "metadata": {},
   "outputs": [],
   "source": [
    "#pivate variable\n",
    "class Person:\n",
    "    def __init__(self,name,age):\n",
    "        self.__name=name  #private variable\n",
    "        self.__age=age    #private variable\n",
    "\n",
    "\n",
    "class Employee(Person):\n",
    "    def __init__(self, name, age):\n",
    "        super().__init__(name, age)\n",
    "\n",
    "e=Employee(\"RAjib\",21)\n",
    "p=Person(\"Raj\",4)\n",
    "# print(p.name)#name is not acessible in outside the class\n",
    "#print(e.name)#name is not acessible in derived class\n",
    "#private variable is acessible only inside the class\n",
    "\n"
   ]
  },
  {
   "cell_type": "code",
   "execution_count": null,
   "id": "f02741cb",
   "metadata": {},
   "outputs": [
    {
     "name": "stdout",
     "output_type": "stream",
     "text": [
      "RAjib\n"
     ]
    }
   ],
   "source": [
    "#protected variable\n",
    "\n",
    "class Person:\n",
    "    def __init__(self,name,age):\n",
    "        self._name=name  #protected variable\n",
    "        self._age=age    #protected variable\n",
    "\n",
    "\n",
    "class Employee(Person):\n",
    "    def __init__(self, name, age):\n",
    "        super().__init__(name, age)\n",
    "\n",
    "e=Employee(\"RAjib\",21)\n",
    "p=Person(\"Raj\",4)\n",
    "# print(p.name)#name is not acessible in outside the class\n",
    "print(e._name)#name is acessible in derived class\n",
    "#protected variable is acessible only inside the class and derived class\n",
    "\n"
   ]
  },
  {
   "cell_type": "code",
   "execution_count": null,
   "id": "3eb44a06",
   "metadata": {},
   "outputs": [
    {
     "name": "stdout",
     "output_type": "stream",
     "text": [
      "Raj\n",
      "rabi\n"
     ]
    }
   ],
   "source": [
    "# Encapsulation in getter and setter\n",
    "class Person:\n",
    "    def __init__(self,name,age):\n",
    "        self.__name=name  #private variable\n",
    "        self.__age=age    #private variable\n",
    "    def get_name(self):\n",
    "        return self.__name\n",
    "    def set_name(self,name):\n",
    "        self.__name=name\n",
    "\n",
    "\n",
    "\n",
    "p=Person(\"Raj\",4)\n",
    "print(p.get_name())\n",
    "p.set_name(\"rabi\")\n",
    "print(p.get_name())\n"
   ]
  }
 ],
 "metadata": {
  "kernelspec": {
   "display_name": "Python 3",
   "language": "python",
   "name": "python3"
  },
  "language_info": {
   "codemirror_mode": {
    "name": "ipython",
    "version": 3
   },
   "file_extension": ".py",
   "mimetype": "text/x-python",
   "name": "python",
   "nbconvert_exporter": "python",
   "pygments_lexer": "ipython3",
   "version": "3.12.0"
  }
 },
 "nbformat": 4,
 "nbformat_minor": 5
}
