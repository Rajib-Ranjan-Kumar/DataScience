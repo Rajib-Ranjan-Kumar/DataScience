{
 "cells": [
  {
   "cell_type": "code",
   "execution_count": 4,
   "id": "066a8335",
   "metadata": {},
   "outputs": [
    {
     "name": "stdout",
     "output_type": "stream",
     "text": [
      "car attributes are good ,ibx, 2019\n"
     ]
    }
   ],
   "source": [
    "# Create a class named `Car` with attributes `make`, `model`, and `year`. Create an object of \n",
    "# the class and print its attributes.\n",
    "\n",
    "class Car:\n",
    "    def __init__(self,make,model,year):\n",
    "        self.make=make\n",
    "        self.model=model\n",
    "        self.year=year\n",
    "    \n",
    "car=Car('good','ibx',2019)\n",
    "print(f\"car attributes are {car.make} ,{car.model}, {car.year}\")\n",
    "    "
   ]
  },
  {
   "cell_type": "code",
   "execution_count": 7,
   "id": "dac3e161",
   "metadata": {},
   "outputs": [
    {
     "name": "stdout",
     "output_type": "stream",
     "text": [
      "3.0\n"
     ]
    }
   ],
   "source": [
    "# Create a class named `Calculator` with methods to add, subtract, multiply, and divide. Each \n",
    "# method should return the object itself to allow method chaining. Create an object and chain\n",
    "#  multiple method calls.\n",
    "class Calculator:\n",
    "    def __init__(self,value=0):\n",
    "        self.value=value\n",
    "\n",
    "        \n",
    "    def add(self,a):\n",
    "        self.value+=a\n",
    "        return self\n",
    "    \n",
    "    def subtract(self,a):\n",
    "        self.value-=a\n",
    "        return self\n",
    "    \n",
    "    def multiply(self,a):\n",
    "        self.value*=a\n",
    "        return self\n",
    "    \n",
    "    def divide(self,a):\n",
    "        if(a!=0):\n",
    "         self.value/=a\n",
    "         return self\n",
    "        else:\n",
    "            print(\"error\")\n",
    "\n",
    "calc=Calculator()\n",
    "calc.add(4).subtract(2).multiply(3).divide(2)\n",
    "\n",
    "print(calc.value)\n",
    "    "
   ]
  },
  {
   "cell_type": "code",
   "execution_count": 1,
   "id": "46d033fc",
   "metadata": {},
   "outputs": [],
   "source": [
    " ### Assignment 14: Class with Context Manager\n",
    "\n",
    "# Create a class named `FileManager` that implements the context manager protocol to open and \n",
    "# close a file. Use this class to read the contents of a file.\n",
    "\n",
    "class FileManager:\n",
    "    def __init__(self, filename, mode):\n",
    "        self.filename = filename\n",
    "        self.mode = mode\n",
    "\n",
    "    def __enter__(self):\n",
    "        self.file = open(self.filename, self.mode)\n",
    "        return self.file\n",
    "\n",
    "    def __exit__(self, exc_type, exc_value, traceback):\n",
    "        self.file.close()\n",
    "\n",
    "# Test\n",
    "# with FileManager('sample.txt', 'r') as file:\n",
    "#     content = file.read()\n",
    "#     print(content)\n",
    "    "
   ]
  },
  {
   "cell_type": "code",
   "execution_count": null,
   "id": "0297c27d",
   "metadata": {},
   "outputs": [],
   "source": [
    "# ### Assignment 4: Class with Private Attributes\n",
    "\n",
    "# Create a class named `BankAccount` with private attributes `account_number` and `balance`. \n",
    "# Add methods to deposit and withdraw money, and to check the balance. Create an object of the \n",
    "# class and perform some operations.\n",
    "\n"
   ]
  }
 ],
 "metadata": {
  "kernelspec": {
   "display_name": "Python 3",
   "language": "python",
   "name": "python3"
  },
  "language_info": {
   "codemirror_mode": {
    "name": "ipython",
    "version": 3
   },
   "file_extension": ".py",
   "mimetype": "text/x-python",
   "name": "python",
   "nbconvert_exporter": "python",
   "pygments_lexer": "ipython3",
   "version": "3.12.0"
  }
 },
 "nbformat": 4,
 "nbformat_minor": 5
}
