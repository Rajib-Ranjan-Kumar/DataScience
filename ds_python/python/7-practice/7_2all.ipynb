{
 "cells": [
  {
   "cell_type": "code",
   "execution_count": null,
   "id": "289c7439",
   "metadata": {},
   "outputs": [],
   "source": [
    "\n",
    "\n",
    "#Find the Largest Element in a List\n",
    "def find_largest(numbers):\n",
    "\n",
    "    largest=numbers[0]\n",
    "    for n in numbers:\n",
    "        if n>largest:\n",
    "            largest=n\n",
    "    \n",
    "    return largest"
   ]
  },
  {
   "cell_type": "code",
   "execution_count": null,
   "id": "0d97fa64",
   "metadata": {},
   "outputs": [],
   "source": [
    "#Remove Duplicates from a List\n",
    "def remove_duplicates(lst):\n",
    "    \n",
    "    unique=[]\n",
    "    for l in lst:\n",
    "        if l not in unique:\n",
    "            unique.append(l)\n",
    "    return unique\n",
    "            \n",
    "        \n"
   ]
  },
  {
   "cell_type": "code",
   "execution_count": null,
   "id": "f4618a85",
   "metadata": {},
   "outputs": [],
   "source": [
    "#Check if All Elements in a List are Unique\n",
    "\n",
    "def check_unique(lst):\n",
    "   \n",
    "   \n",
    "    unique=[]\n",
    "    for l in lst:\n",
    "        if l not in unique:\n",
    "            unique.append(l)\n",
    "    return len(unique)==len(lst)\n",
    "            \n",
    "        \n",
    "\n"
   ]
  },
  {
   "cell_type": "code",
   "execution_count": null,
   "id": "a5db3594",
   "metadata": {},
   "outputs": [],
   "source": [
    "#Check if a List is a Subset of Another List (Brute Force Approach)\n",
    "def is_subset(lst1, lst2):\n",
    "    # Your code goes here\n",
    "    s1=set(lst1)\n",
    "    s2=set(lst2)\n",
    "    return s1.issubset(s2)\n",
    "\n"
   ]
  },
  {
   "cell_type": "code",
   "execution_count": null,
   "id": "d693f690",
   "metadata": {},
   "outputs": [],
   "source": [
    "#Rotate a List (Without Slicing)\n",
    "def rotate_list(lst, k):\n",
    "    # Your code goes here\n",
    "    if(len(lst)<=1):\n",
    "        return lst\n",
    "    \n",
    "    for i in range(1,k+1):\n",
    "        new=lst.pop()\n",
    "        lst.insert(0,new)\n",
    "    return lst\n",
    "    \n"
   ]
  }
 ],
 "metadata": {
  "language_info": {
   "name": "python"
  }
 },
 "nbformat": 4,
 "nbformat_minor": 5
}
